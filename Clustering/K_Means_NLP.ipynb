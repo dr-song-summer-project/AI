{
  "nbformat": 4,
  "nbformat_minor": 0,
  "metadata": {
    "colab": {
      "name": "K Means - NLP .ipynb",
      "provenance": [],
      "collapsed_sections": [],
      "authorship_tag": "ABX9TyMoQVP0AgVT/6yWECmntth1",
      "include_colab_link": true
    },
    "kernelspec": {
      "name": "python3",
      "display_name": "Python 3"
    },
    "language_info": {
      "name": "python"
    }
  },
  "cells": [
    {
      "cell_type": "markdown",
      "metadata": {
        "id": "view-in-github",
        "colab_type": "text"
      },
      "source": [
        "<a href=\"https://colab.research.google.com/github/dr-song-summer-project/AI/blob/main/Clustering/K_Means_NLP.ipynb\" target=\"_parent\"><img src=\"https://colab.research.google.com/assets/colab-badge.svg\" alt=\"Open In Colab\"/></a>"
      ]
    },
    {
      "cell_type": "markdown",
      "metadata": {
        "id": "mkV61Je6Ta6b"
      },
      "source": [
        "**https://techblog-history-younghunjo1.tistory.com/114**"
      ]
    },
    {
      "cell_type": "code",
      "metadata": {
        "colab": {
          "base_uri": "https://localhost:8080/"
        },
        "id": "iOPUxPYTP5yf",
        "outputId": "058683c1-7aaa-4b54-ec5f-87139c3f086b"
      },
      "source": [
        "from google.colab import drive\n",
        "drive.mount('/content/drive')"
      ],
      "execution_count": null,
      "outputs": [
        {
          "output_type": "stream",
          "name": "stdout",
          "text": [
            "Mounted at /content/drive\n"
          ]
        }
      ]
    },
    {
      "cell_type": "code",
      "metadata": {
        "id": "CEWp_02gTE1L"
      },
      "source": [
        "clustering_num = 24\n",
        "similarity_cmp = 'reviewRate'"
      ],
      "execution_count": null,
      "outputs": []
    },
    {
      "cell_type": "code",
      "metadata": {
        "colab": {
          "base_uri": "https://localhost:8080/",
          "height": 205
        },
        "id": "eE4kHmgBP6Lu",
        "outputId": "1ba38f41-25f2-4bdc-c474-de7db677a625"
      },
      "source": [
        "# 학습용 데이터셋 불러오기\n",
        "import pandas as pd\n",
        "document_df = pd.read_excel('/content/drive/My Drive/닥터송 여름 프로젝트/4. 대-스타 해결 2/DRSONG_AI_Project/AI/전처리/data/unlabeled_data_prepro_keyword.xlsx')\n",
        "# document_df.head()\n",
        "\n",
        "document_df.drop(['Unnamed: 0', 'encodedSenderId', 'encodedTargetId', 'DateTime'], axis=1, inplace=True)\n",
        "document_df.head()"
      ],
      "execution_count": null,
      "outputs": [
        {
          "output_type": "execute_result",
          "data": {
            "text/html": [
              "<div>\n",
              "<style scoped>\n",
              "    .dataframe tbody tr th:only-of-type {\n",
              "        vertical-align: middle;\n",
              "    }\n",
              "\n",
              "    .dataframe tbody tr th {\n",
              "        vertical-align: top;\n",
              "    }\n",
              "\n",
              "    .dataframe thead th {\n",
              "        text-align: right;\n",
              "    }\n",
              "</style>\n",
              "<table border=\"1\" class=\"dataframe\">\n",
              "  <thead>\n",
              "    <tr style=\"text-align: right;\">\n",
              "      <th></th>\n",
              "      <th>reviewIndex</th>\n",
              "      <th>reviewContent</th>\n",
              "      <th>reviewRate</th>\n",
              "      <th>reviewType</th>\n",
              "    </tr>\n",
              "  </thead>\n",
              "  <tbody>\n",
              "    <tr>\n",
              "      <th>0</th>\n",
              "      <td>0</td>\n",
              "      <td>시간 곧 다 일 불만족 신 부분 나름 조율 다른 조건 조율 과정 없이 바로 워킹맘 ...</td>\n",
              "      <td>1</td>\n",
              "      <td>recruitReview</td>\n",
              "    </tr>\n",
              "    <tr>\n",
              "      <th>1</th>\n",
              "      <td>1</td>\n",
              "      <td>자신감 아기 거 좋다 것 같다 파이팅</td>\n",
              "      <td>3</td>\n",
              "      <td>recruitReview</td>\n",
              "    </tr>\n",
              "    <tr>\n",
              "      <th>2</th>\n",
              "      <td>2</td>\n",
              "      <td>아이 의의 산 표현 확실하다 아이 터 좋아하다 어머님께 아쉽다</td>\n",
              "      <td>3</td>\n",
              "      <td>recruitReview</td>\n",
              "    </tr>\n",
              "    <tr>\n",
              "      <th>3</th>\n",
              "      <td>3</td>\n",
              "      <td>사정 있다 아쉽다 함께</td>\n",
              "      <td>3</td>\n",
              "      <td>recruitReview</td>\n",
              "    </tr>\n",
              "    <tr>\n",
              "      <th>4</th>\n",
              "      <td>4</td>\n",
              "      <td>전화 인터뷰 때 저희 집 오신 첫날 정기 좋다 사 전 말 이사 곳도 수 있다 이 동...</td>\n",
              "      <td>1</td>\n",
              "      <td>recruitReview</td>\n",
              "    </tr>\n",
              "  </tbody>\n",
              "</table>\n",
              "</div>"
            ],
            "text/plain": [
              "   reviewIndex  ...     reviewType\n",
              "0            0  ...  recruitReview\n",
              "1            1  ...  recruitReview\n",
              "2            2  ...  recruitReview\n",
              "3            3  ...  recruitReview\n",
              "4            4  ...  recruitReview\n",
              "\n",
              "[5 rows x 4 columns]"
            ]
          },
          "metadata": {},
          "execution_count": 5
        }
      ]
    },
    {
      "cell_type": "code",
      "metadata": {
        "colab": {
          "base_uri": "https://localhost:8080/"
        },
        "id": "yaED_YtuQbtG",
        "outputId": "624df165-c6bf-4450-889c-73af9a880b92"
      },
      "source": [
        "# 텍스트 단어들의 어근 원형을 추출하기 위해 함수 생성\n",
        "from sklearn.feature_extraction.text import TfidfVectorizer\n",
        "from nltk.stem import WordNetLemmatizer\n",
        "import nltk\n",
        "import string\n",
        "nltk.download('punkt')\n",
        "nltk.download('wordnet')\n",
        "# string.puncutaion에 문자열의 모든 구두점이 들어있음\n",
        "# 이를 활용해서 Tokenize시킬 때 구두점들을 제외하기 위한 것\n",
        "# ord('문자열') => 문자열의 ASCII코드를 반환해줌!\n",
        "# dict(key, value)형태로 모든 구두점의 각 ASCII코드를 key값으로 넣어주자!\n",
        "remove_punct_dict = dict((ord(punct), None) for punct in string.punctuation)\n",
        "lemmar = WordNetLemmatizer()\n",
        "\n",
        "# 토큰화한 각 단어들의 원형들을 리스트로 담아서 반환\n",
        "def LemTokens(tokens):\n",
        "    return [lemmar.lemmatize(token) for token in tokens]\n",
        "# 텍스트를 Input으로 넣어서 토큰화시키고 토큰화된 단어들의 원형들을 리스트로 담아 반환\n",
        "def LemNormalize(text):\n",
        "    # .translate인자에 구두점 dict넣어주어서 구두점 삭제해준 상태로 토큰화시키기!\n",
        "    return LemTokens(nltk.word_tokenize(text.lower().translate(remove_punct_dict)))\n",
        "\n",
        "# Tf-idf 벡터화시키면서 cusotmized해준 토큰화+어근추출 방식 tokenizer인자에 넣어주기\n",
        "# 벡터화시킬 Tf-idf 도구 옵션 추가해서 구축\n",
        "# 1,2gram적용, 빈도수 0.05이하, 0.85이상의 빈도수 단어들 제거\n",
        "tfidf_vect = TfidfVectorizer(tokenizer=LemNormalize,\n",
        "                            stop_words='english', ngram_range=(1,2),\n",
        "                            min_df=0.05, max_df=0.85)\n",
        "# fit_transform으로 위에서 구축한 도구로 텍스트 벡터화\n",
        "# ftr_vect = tfidf_vect.fit_transform(document_df['reviewContent'])\n",
        "ftr_vect = tfidf_vect.fit_transform(document_df['reviewContent'].values.astype('U'))\n",
        "print(ftr_vect.shape)"
      ],
      "execution_count": null,
      "outputs": [
        {
          "output_type": "stream",
          "name": "stdout",
          "text": [
            "[nltk_data] Downloading package punkt to /root/nltk_data...\n",
            "[nltk_data]   Unzipping tokenizers/punkt.zip.\n",
            "[nltk_data] Downloading package wordnet to /root/nltk_data...\n",
            "[nltk_data]   Unzipping corpora/wordnet.zip.\n"
          ]
        },
        {
          "output_type": "stream",
          "name": "stderr",
          "text": [
            "/usr/local/lib/python3.7/dist-packages/sklearn/feature_extraction/text.py:385: UserWarning: Your stop_words may be inconsistent with your preprocessing. Tokenizing the stop words generated tokens ['ha', 'le', 'u', 'wa'] not in stop_words.\n",
            "  'stop_words.' % sorted(inconsistent))\n"
          ]
        },
        {
          "output_type": "stream",
          "name": "stdout",
          "text": [
            "(13283, 39)\n"
          ]
        }
      ]
    },
    {
      "cell_type": "code",
      "metadata": {
        "colab": {
          "base_uri": "https://localhost:8080/"
        },
        "id": "hNAkX0qHQy91",
        "outputId": "b1d3186a-1db4-426c-96da-91942c488a92"
      },
      "source": [
        "# K-means로 clustering_num개 군집으로 문서 군집화시키기\n",
        "from sklearn.cluster import KMeans\n",
        "\n",
        "kmeans = KMeans(n_clusters=clustering_num, max_iter=10000, random_state=42)\n",
        "# 비지도 학습이니 feature로만 학습시키고 예측\n",
        "cluster_label = kmeans.fit_predict(ftr_vect)\n",
        "\n",
        "print(cluster_label)\n",
        "\n",
        "# 군집화한 레이블값들을 document_df 에 추가하기\n",
        "document_df['cluster_label'] = cluster_label\n",
        "print(document_df.sort_values(by=['cluster_label']))\n",
        "# document_df['reviewType'] = document_df['reviewType'].replace(['recruitReview', 'interviewReview', 'failureReview'],[0, 1, 2])"
      ],
      "execution_count": null,
      "outputs": [
        {
          "output_type": "stream",
          "name": "stdout",
          "text": [
            "[14 17 23 ... 11 17 13]\n",
            "      reviewIndex  ... cluster_label\n",
            "1539         1539  ...             0\n",
            "1849         1849  ...             0\n",
            "7901         7901  ...             0\n",
            "5093         5093  ...             0\n",
            "7904         7904  ...             0\n",
            "...           ...  ...           ...\n",
            "661           661  ...            23\n",
            "2522         2522  ...            23\n",
            "1351         1351  ...            23\n",
            "680           680  ...            23\n",
            "927           927  ...            23\n",
            "\n",
            "[13283 rows x 5 columns]\n"
          ]
        }
      ]
    },
    {
      "cell_type": "code",
      "metadata": {
        "id": "1iDwcCZcubg6"
      },
      "source": [
        "document_df.to_excel('clustering_result.xlsx', header=True, index=False)"
      ],
      "execution_count": null,
      "outputs": []
    },
    {
      "cell_type": "code",
      "metadata": {
        "colab": {
          "base_uri": "https://localhost:8080/",
          "height": 428
        },
        "id": "LTrXrDagT5pq",
        "outputId": "c0a65934-a786-46d6-fd86-90583e52edba"
      },
      "source": [
        "import matplotlib.pyplot as plt\n",
        "import seaborn as sb\n",
        "%matplotlib inline\n",
        "\n",
        "sb.lmplot(x='reviewIndex', y='reviewRate', data=document_df, height=5, fit_reg=False, scatter_kws={\"s\":50}, hue = 'cluster_label')\n",
        "\n",
        "plt.title('clustering result')"
      ],
      "execution_count": null,
      "outputs": [
        {
          "output_type": "execute_result",
          "data": {
            "text/plain": [
              "Text(0.5, 1.0, 'clustering result')"
            ]
          },
          "metadata": {},
          "execution_count": 9
        },
        {
          "output_type": "display_data",
          "data": {
            "image/png": "[encoded data removed]",
            "text/plain": [
              "<Figure size 431.375x360 with 1 Axes>"
            ]
          },
          "metadata": {
            "needs_background": "light"
          }
        }
      ]
    },
    {
      "cell_type": "code",
      "metadata": {
        "id": "Eg3RuKaORAS9"
      },
      "source": [
        "def get_cluster_details(cluster_model, cluster_data, feature_names,\n",
        "                       cluster_num, top_n_features=10):\n",
        "    cluster_details = {}\n",
        "    # 각 클러스터 레이블별 feature들의 center값들 내림차순으로 정렬 후의 인덱스를 반환\n",
        "    center_feature_idx = cluster_model.cluster_centers_.argsort()[:,::-1]\n",
        "    \n",
        "    # 개별 클러스터 레이블별로 \n",
        "    for cluster_num in range(cluster_num):\n",
        "        # 개별 클러스터별 정보를 담을 empty dict할당\n",
        "        cluster_details[cluster_num] = {}\n",
        "        cluster_details[cluster_num]['cluster'] = cluster_num\n",
        "        \n",
        "        # 각 feature별 center값들 정렬한 인덱스 중 상위 10개만 추출\n",
        "        top_ftr_idx = center_feature_idx[cluster_num, :top_n_features]\n",
        "        top_ftr = [feature_names[idx] for idx in top_ftr_idx]\n",
        "        # top_ftr_idx를 활용해서 상위 10개 feature들의 center값들 반환\n",
        "        # 반환하게 되면 array이기 떄문에 리스트로바꾸기\n",
        "        top_ftr_val = cluster_model.cluster_centers_[cluster_num, top_ftr_idx].tolist()\n",
        "        \n",
        "        # cluster_details 딕셔너리에다가 개별 군집 정보 넣어주기\n",
        "        cluster_details[cluster_num]['top_features'] = top_ftr\n",
        "        cluster_details[cluster_num]['top_featrues_value'] = top_ftr_val\n",
        "        # 해당 cluster_num으로 분류된 파일명(문서들) 넣어주기\n",
        "        filenames = cluster_data[cluster_data['cluster_label']==cluster_num][similarity_cmp]\n",
        "        # filenames가 df으로 반환되기 떄문에 값들만 출력해서 array->list로 변환\n",
        "        filenames = filenames.values.tolist()\n",
        "        cluster_details[cluster_num]['filenames'] = filenames\n",
        "    \n",
        "    return cluster_details\n",
        "\n",
        "def print_cluster_details(cluster_details):\n",
        "    for cluster_num, cluster_detail in cluster_details.items():\n",
        "        print(f\"#####Cluster Num: {cluster_num}\")\n",
        "        print()\n",
        "        print(\"상위 10개 feature단어들:\\n\", cluster_detail['top_features'])\n",
        "        print()\n",
        "        print(f\"Cluster {cluster_num}으로 분류된 문서들:\\n{cluster_detail['filenames'][:10]}\")\n",
        "        print('-'*20)\n",
        "\n",
        "feature_names = tfidf_vect.get_feature_names()\n",
        "cluster_details = get_cluster_details(cluster_model=kmeans,\n",
        "                                     cluster_data=document_df,\n",
        "                                     feature_names=feature_names,\n",
        "                                     cluster_num=clustering_num,\n",
        "                                     top_n_features=5)\n",
        "print_cluster_details(cluster_details)"
      ],
      "execution_count": null,
      "outputs": []
    },
    {
      "cell_type": "code",
      "metadata": {
        "id": "eUhjPvn-SuI0",
        "colab": {
          "base_uri": "https://localhost:8080/"
        },
        "outputId": "60b1f4c7-1092-45cb-97db-407280bf863b"
      },
      "source": [
        "# 클러스터링된 문서들 중에서 특정 문서를 하나 선택한 후 비슷한 문서 추출\n",
        "from sklearn.metrics.pairwise import cosine_similarity\n",
        "random_int = 1\n",
        "hotel_idx = document_df[document_df['cluster_label']==0].index\n",
        "print(\"호텔 카테고리로 클러스터링된 문서들의 인덱스:\\n\",hotel_idx)\n",
        "print(\"내용 : \", document_df[document_df['reviewIndex']==hotel_idx[random_int]].reviewContent)\n",
        "# 호텔 카테고리로 클러스터링 된 문서들의 인덱스 중 하나 선택해 비교 기준으로 삼을 문서 선정\n",
        "comparison_doc = document_df.iloc[hotel_idx[random_int]][similarity_cmp]\n",
        "print(\"##유사도 비교 기준 문서 이름:\",comparison_doc,'##')\n",
        "print()\n",
        "\n",
        "# 위에서 추출한 호텔 카테고리로 클러스터링된 문서들의 인덱스 중 0번인덱스(비교기준문서)제외한\n",
        "# 다른 문서들과의 유사도 측정\n",
        "similarity = cosine_similarity(ftr_vect[hotel_idx[random_int]], ftr_vect[hotel_idx])\n",
        "# print(similarity)"
      ],
      "execution_count": null,
      "outputs": [
        {
          "output_type": "stream",
          "name": "stdout",
          "text": [
            "호텔 카테고리로 클러스터링된 문서들의 인덱스:\n",
            " Int64Index([   20,    55,   114,   128,   177,   266,   288,   292,   302,\n",
            "              504,\n",
            "            ...\n",
            "            13227, 13232, 13236, 13238, 13245, 13247, 13248, 13249, 13252,\n",
            "            13267],\n",
            "           dtype='int64', length=516)\n",
            "내용 :  55    기간 거절 열한 번 계속 연락 처음 기간 다음 다른 분과 매칭 계속 계속 연락\n",
            "Name: reviewContent, dtype: object\n",
            "##유사도 비교 기준 문서 이름: 3 ##\n",
            "\n"
          ]
        }
      ]
    },
    {
      "cell_type": "code",
      "metadata": {
        "id": "fQepZ0a1SyET"
      },
      "source": [
        "# 비교기준 문서와 다른 문서들간의 유사도 살펴보기\n",
        "import seaborn as sns\n",
        "import numpy as np\n",
        "import matplotlib.pyplot as plt\n",
        "# array 내림차순으로 정렬한 후 인덱스 반환 [:,::-1] 모든행에 대해서 열을 내림차순으로!\n",
        "sorted_idx = similarity.argsort()[:,::-1]\n",
        "# 비교문서 당사자는 제외한 인덱스 추출\n",
        "sorted_idx = sorted_idx[:, 1:]\n",
        "\n",
        "# 유사도가 큰 순으로 hotel_idx(label=1인 즉, 호텔과관련된 내용의 문서이름들의 index들)에서 재 정렬 \n",
        "# index로 넣으려면 1차원으로 reshape해주기!\n",
        "hotel_sorted_idx = hotel_idx[sorted_idx.reshape(-1,)]\n",
        "# 유사도 행렬값들을 유사도가 큰 순으로 재정렬(비교 문서 당사자는 제외)\n",
        "hotel_sim_values = np.sort(similarity.reshape(-1,))[::-1]\n",
        "hotel_sim_values = hotel_sim_values[1:]\n",
        "# 이렇게 되면 비교문서와 가장 유사한 순으로 '해당문서의index-유사도값' 으로 동일한 위치가 매핑된 두 개의 array!\n",
        "# 그래서 그대로 데이터프레임의 각 칼럼으로 넣어주기\n",
        "print(hotel_sorted_idx)\n",
        "print(hotel_sim_values)\n",
        "print()\n",
        "print(\"길이 비교\", len(hotel_sorted_idx), len(hotel_sim_values))\n",
        "print()\n",
        "# 빈 데이터프레임 생성\n",
        "hotel_sim_df = pd.DataFrame()\n",
        "# hotel_sorted_idx 와 hotel_sim_values 매핑시킨 array임\n",
        "hotel_sim_df[similarity_cmp] = document_df.iloc[hotel_sorted_idx][similarity_cmp]\n",
        "hotel_sim_df['similarity'] = hotel_sim_values\n",
        "\n",
        "plt.figure(figsize=(15,10))\n",
        "sns.barplot(data=hotel_sim_df, x=similarity_cmp, y='similarity')\n",
        "plt.title(comparison_doc)"
      ],
      "execution_count": null,
      "outputs": []
    },
    {
      "cell_type": "markdown",
      "metadata": {
        "id": "fLOh12p1yRCH"
      },
      "source": [
        "# **정확도 측정 - F1 Score**\n",
        "\n",
        "https://eunsukimme.github.io/ml/2019/10/21/Accuracy-Recall-Precision-F1-score/"
      ]
    },
    {
      "cell_type": "code",
      "metadata": {
        "colab": {
          "base_uri": "https://localhost:8080/"
        },
        "id": "58HBllWHyVbv",
        "outputId": "7575f3c5-8b54-4bbb-bc9b-0ce17c969036"
      },
      "source": [
        "from sklearn.metrics import accuracy_score, recall_score, precision_score, f1_score\n",
        "\n",
        "test_df = pd.read_csv('/content/drive/My Drive/닥터송 여름 프로젝트/4. 대-스타 해결 2/DRSONG_AI_Project/AI/전처리/data/test_data.csv')\n",
        "\n",
        "test_df.drop(['encodedSenderId', 'encodedTargetId', 'DateTime'], axis=1, inplace=True)\n",
        "# test_df.head()\n",
        "\n",
        "labels = test_df['reviewRate'].values.tolist() #실제 측정값\n",
        "print(labels)"
      ],
      "execution_count": null,
      "outputs": [
        {
          "output_type": "stream",
          "name": "stdout",
          "text": [
            "[5, 5, 5, 5, 5, 4, 4, 4, 4, 4, 4, 4, 4, 4, 4, 3, 3, 3, 3, 3, 3, 3, 3, 2, 2, 2, 2, 1, 1, 1, 1, 1, 1, 1, 1, 1, 1, 5, 5, 5, 5, 5, 4, 4, 4, 4, 4, 4, 4, 3, 3, 3, 3, 3, 2, 2, 2, 2, 2, 2, 1, 1, 1, 1, 1, 1, 1, 1, 1, 5, 5, 5, 5, 5, 5, 5, 5, 4, 4, 4, 4, 4, 4, 3, 3, 3, 3, 3, 2, 2, 2, 2, 2, 2, 1, 1, 1, 1, 1, 1]\n"
          ]
        }
      ]
    },
    {
      "cell_type": "code",
      "metadata": {
        "id": "lqLFx3ifys_v"
      },
      "source": [
        "guesses = [0, 1, 1, 1, 1, 0, 1, 0, 1, 0]\t# 예측된 결과\n",
        "\n",
        "print(accuracy_score(labels, guesses))\t# 0.3\n",
        "print(recall_score(labels, guesses))\t# 0.42\n",
        "print(precision_score(labels, guesses))\t# 0.5\n",
        "print(f1_score(labels, guesses))\t# 0.46"
      ],
      "execution_count": null,
      "outputs": []
    }
  ]
}