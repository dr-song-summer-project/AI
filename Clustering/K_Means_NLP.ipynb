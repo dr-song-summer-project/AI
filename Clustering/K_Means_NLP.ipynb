{
  "nbformat": 4,
  "nbformat_minor": 0,
  "metadata": {
    "colab": {
      "name": "K Means - NLP.ipynb",
      "provenance": [],
      "collapsed_sections": [],
      "authorship_tag": "ABX9TyMvUXo2YZS8CauFQnm9HSBf",
      "include_colab_link": true
    },
    "kernelspec": {
      "name": "python3",
      "display_name": "Python 3"
    },
    "language_info": {
      "name": "python"
    }
  },
  "cells": [
    {
      "cell_type": "markdown",
      "metadata": {
        "id": "view-in-github",
        "colab_type": "text"
      },
      "source": [
        "<a href=\"https://colab.research.google.com/github/dr-song-summer-project/AI/blob/main/Clustering/K_Means_NLP.ipynb\" target=\"_parent\"><img src=\"https://colab.research.google.com/assets/colab-badge.svg\" alt=\"Open In Colab\"/></a>"
      ]
    },
    {
      "cell_type": "markdown",
      "metadata": {
        "id": "mkV61Je6Ta6b"
      },
      "source": [
        "**https://techblog-history-younghunjo1.tistory.com/114**"
      ]
    },
    {
      "cell_type": "code",
      "metadata": {
        "colab": {
          "base_uri": "https://localhost:8080/"
        },
        "id": "iOPUxPYTP5yf",
        "outputId": "52adfba4-5a3d-4302-e6f4-62b71e20d752"
      },
      "source": [
        "from google.colab import drive\n",
        "drive.mount('/content/drive')"
      ],
      "execution_count": null,
      "outputs": [
        {
          "output_type": "stream",
          "name": "stdout",
          "text": [
            "Drive already mounted at /content/drive; to attempt to forcibly remount, call drive.mount(\"/content/drive\", force_remount=True).\n"
          ]
        }
      ]
    },
    {
      "cell_type": "code",
      "metadata": {
        "id": "CEWp_02gTE1L"
      },
      "source": [
        "clustering_num = 15\n",
        "similarity_cmp = 'reviewRate'"
      ],
      "execution_count": null,
      "outputs": []
    },
    {
      "cell_type": "code",
      "metadata": {
        "colab": {
          "base_uri": "https://localhost:8080/",
          "height": 205
        },
        "id": "eE4kHmgBP6Lu",
        "outputId": "7249f937-4cdf-4e6d-bfd1-33cd175ccb12"
      },
      "source": [
        "# 학습용 데이터셋 불러오기\n",
        "import pandas as pd\n",
        "document_df = pd.read_csv('/content/drive/My Drive/닥터송 여름 프로젝트/4. 대-스타 해결 2/09.(주)맘편한세상_데이터/unlabeled_data.csv')\n",
        "# document_df.head()\n",
        "\n",
        "document_df.drop(['encodedSenderId', 'encodedTargetId', 'DateTime'], axis=1, inplace=True)\n",
        "document_df.head()"
      ],
      "execution_count": null,
      "outputs": [
        {
          "output_type": "execute_result",
          "data": {
            "text/html": [
              "<div>\n",
              "<style scoped>\n",
              "    .dataframe tbody tr th:only-of-type {\n",
              "        vertical-align: middle;\n",
              "    }\n",
              "\n",
              "    .dataframe tbody tr th {\n",
              "        vertical-align: top;\n",
              "    }\n",
              "\n",
              "    .dataframe thead th {\n",
              "        text-align: right;\n",
              "    }\n",
              "</style>\n",
              "<table border=\"1\" class=\"dataframe\">\n",
              "  <thead>\n",
              "    <tr style=\"text-align: right;\">\n",
              "      <th></th>\n",
              "      <th>reviewIndex</th>\n",
              "      <th>reviewContent</th>\n",
              "      <th>reviewRate</th>\n",
              "      <th>reviewType</th>\n",
              "    </tr>\n",
              "  </thead>\n",
              "  <tbody>\n",
              "    <tr>\n",
              "      <th>0</th>\n",
              "      <td>0</td>\n",
              "      <td>돌보시다가 시간이 맞지않으셨는지 곧 그만두신다 하셨습니다.  일하시다 불만족스러우신...</td>\n",
              "      <td>1</td>\n",
              "      <td>recruitReview</td>\n",
              "    </tr>\n",
              "    <tr>\n",
              "      <th>1</th>\n",
              "      <td>1</td>\n",
              "      <td>자신감을 갖고 아기에게 다가간다면 거 좋을것같아요. 홧팅하세요~~</td>\n",
              "      <td>3</td>\n",
              "      <td>recruitReview</td>\n",
              "    </tr>\n",
              "    <tr>\n",
              "      <th>2</th>\n",
              "      <td>2</td>\n",
              "      <td>어리지만  아이의  의사표현이  확실해요\\n 아이가 20-30대  시터를  좋아한다...</td>\n",
              "      <td>3</td>\n",
              "      <td>recruitReview</td>\n",
              "    </tr>\n",
              "    <tr>\n",
              "      <th>3</th>\n",
              "      <td>3</td>\n",
              "      <td>사정이 있어서 아쉽게도 함께하지 못했네요</td>\n",
              "      <td>3</td>\n",
              "      <td>recruitReview</td>\n",
              "    </tr>\n",
              "    <tr>\n",
              "      <th>4</th>\n",
              "      <td>4</td>\n",
              "      <td>전화인터뷰 때 그리고 저희집에 오신 첫 날에 정기적으로 오셨으면 좋겠다고 사전에 말...</td>\n",
              "      <td>1</td>\n",
              "      <td>recruitReview</td>\n",
              "    </tr>\n",
              "  </tbody>\n",
              "</table>\n",
              "</div>"
            ],
            "text/plain": [
              "   reviewIndex  ...     reviewType\n",
              "0            0  ...  recruitReview\n",
              "1            1  ...  recruitReview\n",
              "2            2  ...  recruitReview\n",
              "3            3  ...  recruitReview\n",
              "4            4  ...  recruitReview\n",
              "\n",
              "[5 rows x 4 columns]"
            ]
          },
          "metadata": {},
          "execution_count": 140
        }
      ]
    },
    {
      "cell_type": "code",
      "metadata": {
        "colab": {
          "base_uri": "https://localhost:8080/"
        },
        "id": "yaED_YtuQbtG",
        "outputId": "4f073862-dc0f-4d20-c4ce-a3ea0a54bbe8"
      },
      "source": [
        "# 텍스트 단어들의 어근 원형을 추출하기 위해 함수 생성\n",
        "from sklearn.feature_extraction.text import TfidfVectorizer\n",
        "from nltk.stem import WordNetLemmatizer\n",
        "import nltk\n",
        "import string\n",
        "nltk.download('punkt')\n",
        "nltk.download('wordnet')\n",
        "# string.puncutaion에 문자열의 모든 구두점이 들어있음\n",
        "# 이를 활용해서 Tokenize시킬 때 구두점들을 제외하기 위한 것\n",
        "# ord('문자열') => 문자열의 ASCII코드를 반환해줌!\n",
        "# dict(key, value)형태로 모든 구두점의 각 ASCII코드를 key값으로 넣어주자!\n",
        "remove_punct_dict = dict((ord(punct), None) for punct in string.punctuation)\n",
        "lemmar = WordNetLemmatizer()\n",
        "\n",
        "# 토큰화한 각 단어들의 원형들을 리스트로 담아서 반환\n",
        "def LemTokens(tokens):\n",
        "    return [lemmar.lemmatize(token) for token in tokens]\n",
        "# 텍스트를 Input으로 넣어서 토큰화시키고 토큰화된 단어들의 원형들을 리스트로 담아 반환\n",
        "def LemNormalize(text):\n",
        "    # .translate인자에 구두점 dict넣어주어서 구두점 삭제해준 상태로 토큰화시키기!\n",
        "    return LemTokens(nltk.word_tokenize(text.lower().translate(remove_punct_dict)))\n",
        "\n",
        "# Tf-idf 벡터화시키면서 cusotmized해준 토큰화+어근추출 방식 tokenizer인자에 넣어주기\n",
        "# 벡터화시킬 Tf-idf 도구 옵션 추가해서 구축\n",
        "# 1,2gram적용, 빈도수 0.05이하, 0.85이상의 빈도수 단어들 제거\n",
        "tfidf_vect = TfidfVectorizer(tokenizer=LemNormalize,\n",
        "                            stop_words='english', ngram_range=(1,2),\n",
        "                            min_df=0.05, max_df=0.85)\n",
        "# fit_transform으로 위에서 구축한 도구로 텍스트 벡터화\n",
        "ftr_vect = tfidf_vect.fit_transform(document_df['reviewContent'])\n",
        "print(ftr_vect.shape)"
      ],
      "execution_count": null,
      "outputs": [
        {
          "output_type": "stream",
          "name": "stdout",
          "text": [
            "[nltk_data] Downloading package punkt to /root/nltk_data...\n",
            "[nltk_data]   Package punkt is already up-to-date!\n",
            "[nltk_data] Downloading package wordnet to /root/nltk_data...\n",
            "[nltk_data]   Package wordnet is already up-to-date!\n"
          ]
        },
        {
          "output_type": "stream",
          "name": "stderr",
          "text": [
            "/usr/local/lib/python3.7/dist-packages/sklearn/feature_extraction/text.py:385: UserWarning: Your stop_words may be inconsistent with your preprocessing. Tokenizing the stop words generated tokens ['ha', 'le', 'u', 'wa'] not in stop_words.\n",
            "  'stop_words.' % sorted(inconsistent))\n"
          ]
        },
        {
          "output_type": "stream",
          "name": "stdout",
          "text": [
            "(13283, 16)\n"
          ]
        }
      ]
    },
    {
      "cell_type": "code",
      "metadata": {
        "colab": {
          "base_uri": "https://localhost:8080/",
          "height": 295
        },
        "id": "rP4ntYxRMESJ",
        "outputId": "8ec5c4bc-0353-4e48-b1a4-5e5befa7fb26"
      },
      "source": [
        "def elbow(data, length):\n",
        "    sse = [] # sum of squre error 오차제곱합\n",
        "    for i in range(1, length):\n",
        "        kmeans = KMeans(n_clusters=i)\n",
        "        kmeans.fit(data)\n",
        "        # SSE 값 저장\n",
        "        sse.append(kmeans.inertia_)\n",
        "    plt.plot(range(1, length), sse, 'bo-')\n",
        "    plt.title(\"elbow method\")\n",
        "    plt.xlabel(\"number of clusters\")\n",
        "    plt.ylabel(\"SSE\")\n",
        "    plt.show()\n",
        "elbow(ftr_vect, 40)"
      ],
      "execution_count": null,
      "outputs": [
        {
          "output_type": "display_data",
          "data": {
            "image/png": "[encoded data removed]",
            "text/plain": [
              "<Figure size 432x288 with 1 Axes>"
            ]
          },
          "metadata": {
            "needs_background": "light"
          }
        }
      ]
    },
    {
      "cell_type": "code",
      "metadata": {
        "colab": {
          "base_uri": "https://localhost:8080/"
        },
        "id": "hNAkX0qHQy91",
        "outputId": "1962e65d-424d-42f1-e18b-9ac88742fc16"
      },
      "source": [
        "# K-means로 clustering_num개 군집으로 문서 군집화시키기\n",
        "from sklearn.cluster import KMeans\n",
        "\n",
        "kmeans = KMeans(n_clusters=clustering_num, max_iter=10000, random_state=42)\n",
        "# 비지도 학습이니 feature로만 학습시키고 예측\n",
        "cluster_label = kmeans.fit_predict(ftr_vect)\n",
        "\n",
        "print(cluster_label)\n",
        "\n",
        "# 군집화한 레이블값들을 document_df 에 추가하기\n",
        "document_df['cluster_label'] = cluster_label\n",
        "print(document_df.sort_values(by=['cluster_label']))\n",
        "# document_df['reviewType']"
      ],
      "execution_count": null,
      "outputs": [
        {
          "output_type": "stream",
          "name": "stdout",
          "text": [
            "[6 1 1 ... 0 8 2]\n",
            "       reviewIndex  ... cluster_label\n",
            "3608          3608  ...             0\n",
            "7114          7114  ...             0\n",
            "1282          1282  ...             0\n",
            "3691          3691  ...             0\n",
            "6101          6101  ...             0\n",
            "...            ...  ...           ...\n",
            "10133        10133  ...            14\n",
            "6195          6195  ...            14\n",
            "6198          6198  ...            14\n",
            "10039        10039  ...            14\n",
            "6641          6641  ...            14\n",
            "\n",
            "[13283 rows x 5 columns]\n"
          ]
        }
      ]
    },
    {
      "cell_type": "code",
      "metadata": {
        "id": "1iDwcCZcubg6"
      },
      "source": [
        "document_df.to_excel('clustering_result.xlsx', header=True, index=False)"
      ],
      "execution_count": null,
      "outputs": []
    },
    {
      "cell_type": "code",
      "metadata": {
        "colab": {
          "base_uri": "https://localhost:8080/",
          "height": 474
        },
        "id": "LTrXrDagT5pq",
        "outputId": "ca0aa09c-ce4d-4569-9e39-adfbcd0898f8"
      },
      "source": [
        "import matplotlib.pyplot as plt\n",
        "import seaborn as sb\n",
        "%matplotlib inline\n",
        "\n",
        "sb.lmplot('reviewIndex', 'cluster_label', data=document_df, fit_reg=False, scatter_kws={\"s\":1})\n",
        "\n",
        "plt.title('clustering result')"
      ],
      "execution_count": null,
      "outputs": [
        {
          "output_type": "stream",
          "name": "stderr",
          "text": [
            "/usr/local/lib/python3.7/dist-packages/seaborn/_decorators.py:43: FutureWarning: Pass the following variables as keyword args: x, y. From version 0.12, the only valid positional argument will be `data`, and passing other arguments without an explicit keyword will result in an error or misinterpretation.\n",
            "  FutureWarning\n"
          ]
        },
        {
          "output_type": "execute_result",
          "data": {
            "text/plain": [
              "Text(0.5, 1.0, 'clustering result')"
            ]
          },
          "metadata": {},
          "execution_count": 111
        },
        {
          "output_type": "display_data",
          "data": {
            "image/png": "[encoded data removed]",
            "text/plain": [
              "<Figure size 360x360 with 1 Axes>"
            ]
          },
          "metadata": {
            "needs_background": "light"
          }
        }
      ]
    },
    {
      "cell_type": "code",
      "metadata": {
        "id": "Eg3RuKaORAS9"
      },
      "source": [
        "def get_cluster_details(cluster_model, cluster_data, feature_names,\n",
        "                       cluster_num, top_n_features=10):\n",
        "    cluster_details = {}\n",
        "    # 각 클러스터 레이블별 feature들의 center값들 내림차순으로 정렬 후의 인덱스를 반환\n",
        "    center_feature_idx = cluster_model.cluster_centers_.argsort()[:,::-1]\n",
        "    \n",
        "    # 개별 클러스터 레이블별로 \n",
        "    for cluster_num in range(cluster_num):\n",
        "        # 개별 클러스터별 정보를 담을 empty dict할당\n",
        "        cluster_details[cluster_num] = {}\n",
        "        cluster_details[cluster_num]['cluster'] = cluster_num\n",
        "        \n",
        "        # 각 feature별 center값들 정렬한 인덱스 중 상위 10개만 추출\n",
        "        top_ftr_idx = center_feature_idx[cluster_num, :top_n_features]\n",
        "        top_ftr = [feature_names[idx] for idx in top_ftr_idx]\n",
        "        # top_ftr_idx를 활용해서 상위 10개 feature들의 center값들 반환\n",
        "        # 반환하게 되면 array이기 떄문에 리스트로바꾸기\n",
        "        top_ftr_val = cluster_model.cluster_centers_[cluster_num, top_ftr_idx].tolist()\n",
        "        \n",
        "        # cluster_details 딕셔너리에다가 개별 군집 정보 넣어주기\n",
        "        cluster_details[cluster_num]['top_features'] = top_ftr\n",
        "        cluster_details[cluster_num]['top_featrues_value'] = top_ftr_val\n",
        "        # 해당 cluster_num으로 분류된 파일명(문서들) 넣어주기\n",
        "        filenames = cluster_data[cluster_data['cluster_label']==cluster_num][similarity_cmp]\n",
        "        # filenames가 df으로 반환되기 떄문에 값들만 출력해서 array->list로 변환\n",
        "        filenames = filenames.values.tolist()\n",
        "        cluster_details[cluster_num]['filenames'] = filenames\n",
        "    \n",
        "    return cluster_details\n",
        "\n",
        "def print_cluster_details(cluster_details):\n",
        "    for cluster_num, cluster_detail in cluster_details.items():\n",
        "        print(f\"#####Cluster Num: {cluster_num}\")\n",
        "        print()\n",
        "        print(\"상위 10개 feature단어들:\\n\", cluster_detail['top_features'])\n",
        "        print()\n",
        "        print(f\"Cluster {cluster_num}으로 분류된 문서들:\\n{cluster_detail['filenames'][:5]}\")\n",
        "        print('-'*20)\n",
        "\n",
        "feature_names = tfidf_vect.get_feature_names()\n",
        "cluster_details = get_cluster_details(cluster_model=kmeans,\n",
        "                                     cluster_data=document_df,\n",
        "                                     feature_names=feature_names,\n",
        "                                     cluster_num=clustering_num,\n",
        "                                     top_n_features=10)\n",
        "print_cluster_details(cluster_details)"
      ],
      "execution_count": null,
      "outputs": []
    },
    {
      "cell_type": "code",
      "metadata": {
        "colab": {
          "base_uri": "https://localhost:8080/",
          "height": 245
        },
        "id": "WFwY4VeDSqID",
        "outputId": "ae0725a2-fa65-425c-f0a4-9c76e8f4ab7c"
      },
      "source": [
        "# 시각화에 필요한 모듈 불러오기\n",
        "import seaborn as sns\n",
        "import matplotlib.pyplot as plt\n",
        "%matplotlib inline\n",
        "\n",
        "# df : 데이터셋\n",
        "# cluster : 데이터셋에서 클러스터 결과 컬럼명\n",
        "cluster_size = df.groupby(['cluster'])['id'].count()    # 'id' 대신 아무 컬럼 이름을 적어도 무방\n",
        "print(cluster_size)\n",
        "cluster_size.plot(kind = 'bar')"
      ],
      "execution_count": null,
      "outputs": [
        {
          "output_type": "error",
          "ename": "NameError",
          "evalue": "ignored",
          "traceback": [
            "\u001b[0;31m---------------------------------------------------------------------------\u001b[0m",
            "\u001b[0;31mNameError\u001b[0m                                 Traceback (most recent call last)",
            "\u001b[0;32m<ipython-input-83-483319cab436>\u001b[0m in \u001b[0;36m<module>\u001b[0;34m()\u001b[0m\n\u001b[1;32m      6\u001b[0m \u001b[0;31m# df : 데이터셋\u001b[0m\u001b[0;34m\u001b[0m\u001b[0;34m\u001b[0m\u001b[0;34m\u001b[0m\u001b[0m\n\u001b[1;32m      7\u001b[0m \u001b[0;31m# cluster : 데이터셋에서 클러스터 결과 컬럼명\u001b[0m\u001b[0;34m\u001b[0m\u001b[0;34m\u001b[0m\u001b[0;34m\u001b[0m\u001b[0m\n\u001b[0;32m----> 8\u001b[0;31m \u001b[0mcluster_size\u001b[0m \u001b[0;34m=\u001b[0m \u001b[0mdf\u001b[0m\u001b[0;34m[\u001b[0m\u001b[0;34m'cluster'\u001b[0m\u001b[0;34m]\u001b[0m\u001b[0;34m.\u001b[0m\u001b[0mvalue_count\u001b[0m\u001b[0;34m(\u001b[0m\u001b[0;34m)\u001b[0m\u001b[0;34m\u001b[0m\u001b[0;34m\u001b[0m\u001b[0m\n\u001b[0m\u001b[1;32m      9\u001b[0m \u001b[0;34m(\u001b[0m\u001b[0m혹은\u001b[0m\u001b[0;34m)\u001b[0m\u001b[0;34m\u001b[0m\u001b[0;34m\u001b[0m\u001b[0m\n\u001b[1;32m     10\u001b[0m \u001b[0mcluster_size\u001b[0m \u001b[0;34m=\u001b[0m \u001b[0mdf\u001b[0m\u001b[0;34m.\u001b[0m\u001b[0mgroupby\u001b[0m\u001b[0;34m(\u001b[0m\u001b[0;34m[\u001b[0m\u001b[0;34m'cluster'\u001b[0m\u001b[0;34m]\u001b[0m\u001b[0;34m)\u001b[0m\u001b[0;34m[\u001b[0m\u001b[0;34m'id'\u001b[0m\u001b[0;34m]\u001b[0m\u001b[0;34m.\u001b[0m\u001b[0mcount\u001b[0m\u001b[0;34m(\u001b[0m\u001b[0;34m)\u001b[0m    \u001b[0;31m# 'id' 대신 아무 컬럼 이름을 적어도 무방\u001b[0m\u001b[0;34m\u001b[0m\u001b[0;34m\u001b[0m\u001b[0m\n",
            "\u001b[0;31mNameError\u001b[0m: name 'df' is not defined"
          ]
        }
      ]
    },
    {
      "cell_type": "code",
      "metadata": {
        "id": "eUhjPvn-SuI0"
      },
      "source": [
        "# 클러스터링된 문서들 중에서 특정 문서를 하나 선택한 후 비슷한 문서 추출\n",
        "from sklearn.metrics.pairwise import cosine_similarity\n",
        "random_int = 1\n",
        "hotel_idx = document_df[document_df['cluster_label']==0].index\n",
        "print(\"호텔 카테고리로 클러스터링된 문서들의 인덱스:\\n\",hotel_idx)\n",
        "print()\n",
        "# 호텔 카테고리로 클러스터링 된 문서들의 인덱스 중 하나 선택해 비교 기준으로 삼을 문서 선정\n",
        "comparison_doc = document_df.iloc[hotel_idx[random_int]][similarity_cmp]\n",
        "print(\"##유사도 비교 기준 문서 이름:\",comparison_doc,'##')\n",
        "print()\n",
        "\n",
        "# 위에서 추출한 호텔 카테고리로 클러스터링된 문서들의 인덱스 중 0번인덱스(비교기준문서)제외한\n",
        "# 다른 문서들과의 유사도 측정\n",
        "similarity = cosine_similarity(ftr_vect[hotel_idx[random_int]], ftr_vect[hotel_idx])\n",
        "print(similarity)"
      ],
      "execution_count": null,
      "outputs": []
    },
    {
      "cell_type": "code",
      "metadata": {
        "colab": {
          "base_uri": "https://localhost:8080/",
          "height": 1000
        },
        "id": "fQepZ0a1SyET",
        "outputId": "aaa879b4-364e-43e5-e6bf-b5d6f97a8a0f"
      },
      "source": [
        "# 비교기준 문서와 다른 문서들간의 유사도 살펴보기\n",
        "import seaborn as sns\n",
        "import numpy as np\n",
        "import matplotlib.pyplot as plt\n",
        "# array 내림차순으로 정렬한 후 인덱스 반환 [:,::-1] 모든행에 대해서 열을 내림차순으로!\n",
        "sorted_idx = similarity.argsort()[:,::-1]\n",
        "# 비교문서 당사자는 제외한 인덱스 추출\n",
        "sorted_idx = sorted_idx[:, 1:]\n",
        "\n",
        "# 유사도가 큰 순으로 hotel_idx(label=1인 즉, 호텔과관련된 내용의 문서이름들의 index들)에서 재 정렬 \n",
        "# index로 넣으려면 1차원으로 reshape해주기!\n",
        "hotel_sorted_idx = hotel_idx[sorted_idx.reshape(-1,)]\n",
        "# 유사도 행렬값들을 유사도가 큰 순으로 재정렬(비교 문서 당사자는 제외)\n",
        "hotel_sim_values = np.sort(similarity.reshape(-1,))[::-1]\n",
        "hotel_sim_values = hotel_sim_values[1:]\n",
        "# 이렇게 되면 비교문서와 가장 유사한 순으로 '해당문서의index-유사도값' 으로 동일한 위치가 매핑된 두 개의 array!\n",
        "# 그래서 그대로 데이터프레임의 각 칼럼으로 넣어주기\n",
        "print(hotel_sorted_idx)\n",
        "print(hotel_sim_values)\n",
        "print()\n",
        "print(\"길이 비교\", len(hotel_sorted_idx), len(hotel_sim_values))\n",
        "print()\n",
        "# 빈 데이터프레임 생성\n",
        "hotel_sim_df = pd.DataFrame()\n",
        "# hotel_sorted_idx 와 hotel_sim_values 매핑시킨 array임\n",
        "hotel_sim_df[similarity_cmp] = document_df.iloc[hotel_sorted_idx][similarity_cmp]\n",
        "hotel_sim_df['similarity'] = hotel_sim_values\n",
        "\n",
        "plt.figure(figsize=(15,10))\n",
        "sns.barplot(data=hotel_sim_df, x=similarity_cmp, y='similarity')\n",
        "plt.title(comparison_doc)"
      ],
      "execution_count": null,
      "outputs": [
        {
          "output_type": "stream",
          "name": "stdout",
          "text": [
            "Int64Index([10555,  1894,  1906,  6941, 10741,  1965,  4320,  2031,  2060,\n",
            "             4280,\n",
            "            ...\n",
            "             7382, 12021, 10732, 12500,  7614, 12212, 12077, 11600, 11977,\n",
            "            12869],\n",
            "           dtype='int64', length=569)\n",
            "[1.         1.         1.         1.         1.         1.\n",
            " 1.         1.         1.         1.         1.         1.\n",
            " 1.         1.         1.         1.         1.         1.\n",
            " 1.         1.         1.         1.         1.         1.\n",
            " 1.         1.         1.         1.         1.         1.\n",
            " 1.         1.         1.         1.         1.         1.\n",
            " 1.         1.         1.         1.         1.         1.\n",
            " 1.         1.         1.         1.         1.         1.\n",
            " 1.         1.         1.         1.         1.         1.\n",
            " 1.         1.         1.         1.         1.         1.\n",
            " 1.         1.         1.         1.         1.         1.\n",
            " 1.         1.         1.         1.         1.         1.\n",
            " 1.         1.         1.         1.         1.         1.\n",
            " 1.         1.         1.         1.         1.         1.\n",
            " 1.         1.         1.         1.         1.         1.\n",
            " 1.         1.         1.         1.         1.         1.\n",
            " 1.         1.         1.         1.         1.         1.\n",
            " 1.         1.         1.         1.         1.         1.\n",
            " 1.         1.         1.         1.         1.         1.\n",
            " 1.         1.         1.         1.         1.         1.\n",
            " 1.         1.         1.         1.         1.         1.\n",
            " 1.         1.         1.         1.         1.         1.\n",
            " 1.         1.         1.         1.         1.         1.\n",
            " 1.         1.         1.         1.         1.         1.\n",
            " 1.         1.         1.         1.         1.         1.\n",
            " 1.         1.         1.         1.         1.         1.\n",
            " 1.         1.         1.         1.         1.         1.\n",
            " 1.         1.         1.         1.         1.         1.\n",
            " 1.         1.         1.         1.         1.         1.\n",
            " 1.         1.         1.         1.         1.         1.\n",
            " 1.         1.         1.         1.         1.         1.\n",
            " 1.         1.         0.97440472 0.97068359 0.96673708 0.96393106\n",
            " 0.95603679 0.93812737 0.92538165 0.92538165 0.92416078 0.92389486\n",
            " 0.92389486 0.9210385  0.90845682 0.90800316 0.90800316 0.90765516\n",
            " 0.88134095 0.87952058 0.87299802 0.85026399 0.84556904 0.84367124\n",
            " 0.84284286 0.84189513 0.8382452  0.8382452  0.8382452  0.8382452\n",
            " 0.8382452  0.8382452  0.8382452  0.8382452  0.8382452  0.8382452\n",
            " 0.8382452  0.8382452  0.8382452  0.8382452  0.8382452  0.8382452\n",
            " 0.8382452  0.8382452  0.8382452  0.8382452  0.8382452  0.8382452\n",
            " 0.8382452  0.8382452  0.82165303 0.79467859 0.79152861 0.7837717\n",
            " 0.77417047 0.77357084 0.77357084 0.77357084 0.77357084 0.77357084\n",
            " 0.77357084 0.77357084 0.77357084 0.77357084 0.77357084 0.77357084\n",
            " 0.77357084 0.77357084 0.77357084 0.77357084 0.77357084 0.77011167\n",
            " 0.77011167 0.77011167 0.77011167 0.77011167 0.77011167 0.77011167\n",
            " 0.77011167 0.77011167 0.77011167 0.77011167 0.77011167 0.77011167\n",
            " 0.77011167 0.77011167 0.77011167 0.77011167 0.77011167 0.77011167\n",
            " 0.77011167 0.77011167 0.77011167 0.77011167 0.77011167 0.77011167\n",
            " 0.77011167 0.77011167 0.77011167 0.77011167 0.75780261 0.75641571\n",
            " 0.75641571 0.75641571 0.74997778 0.74838501 0.74610262 0.73585951\n",
            " 0.73585951 0.73585951 0.73585951 0.73585951 0.73585951 0.73585951\n",
            " 0.73585951 0.73585951 0.73585951 0.73585951 0.73585951 0.73585951\n",
            " 0.73585951 0.73489627 0.73489627 0.73489627 0.73489627 0.73489627\n",
            " 0.73489627 0.73489627 0.73489627 0.73489627 0.73489627 0.73489627\n",
            " 0.73489627 0.73489627 0.73489627 0.73489627 0.73489627 0.73489627\n",
            " 0.73489627 0.73489627 0.73489627 0.73489627 0.73489627 0.73489627\n",
            " 0.73489627 0.73489627 0.73489627 0.73165288 0.73165288 0.73165288\n",
            " 0.73165288 0.73165288 0.73165288 0.73165288 0.73165288 0.73165288\n",
            " 0.73165288 0.73165288 0.73165288 0.73165288 0.73165288 0.73165288\n",
            " 0.73165288 0.73165288 0.73165288 0.73165288 0.73165288 0.73165288\n",
            " 0.73165288 0.73165288 0.73165288 0.73165288 0.73165288 0.73165288\n",
            " 0.73165288 0.73165288 0.73165288 0.73165288 0.73165288 0.73165288\n",
            " 0.73165288 0.73165288 0.72664256 0.72664256 0.72664256 0.72664256\n",
            " 0.72664256 0.72664256 0.72664256 0.72664256 0.72664256 0.72664256\n",
            " 0.72664256 0.72664256 0.72664256 0.72664256 0.72664256 0.72170876\n",
            " 0.71710464 0.71710464 0.71710464 0.71710464 0.71710464 0.71710464\n",
            " 0.71710464 0.71710464 0.71710464 0.71710464 0.71652892 0.71652892\n",
            " 0.71652892 0.71652892 0.71652892 0.71652892 0.71204572 0.71204572\n",
            " 0.71204572 0.71204572 0.71204572 0.71204572 0.71204572 0.71204572\n",
            " 0.71204572 0.71204572 0.71204572 0.71204572 0.71204572 0.71204572\n",
            " 0.71204572 0.71204572 0.71204572 0.71204572 0.71204572 0.71204572\n",
            " 0.69595198 0.69558435 0.69101002 0.68854106 0.68854106 0.67870007\n",
            " 0.67870007 0.67870007 0.67870007 0.6763006  0.66302609 0.66302609\n",
            " 0.66302609 0.66302609 0.66302609 0.66064131 0.66064131 0.66064131\n",
            " 0.65694584 0.65694584 0.65132747 0.64987228 0.64987228 0.64987228\n",
            " 0.64944369 0.64944369 0.64297868 0.63020984 0.62960445 0.62960445\n",
            " 0.62960445 0.62833525 0.62833525 0.62833525 0.62833525 0.62833525\n",
            " 0.62773524 0.62773524 0.62773524 0.62756136 0.62571023 0.62439108\n",
            " 0.62439108 0.62439108 0.62439108 0.62256779 0.62256779 0.62256779\n",
            " 0.6208298  0.6208298  0.6208298  0.61793923 0.61653771 0.61653771\n",
            " 0.61505674 0.61505674 0.61505674 0.61505674 0.61505674 0.61331377\n",
            " 0.61069716 0.61069716 0.61069716 0.60908892 0.60908892 0.60908892\n",
            " 0.60694149 0.60691786 0.60691786 0.60637709 0.60637709 0.60637709\n",
            " 0.60637709 0.60637709 0.60637709 0.60637709 0.60404886 0.60404886\n",
            " 0.60404886 0.60404886 0.60404886 0.60351571 0.60351571 0.60351571\n",
            " 0.60171551 0.60171551 0.60171551 0.60171551 0.6012057  0.6012057\n",
            " 0.60068004 0.59853637 0.59853637 0.59820149 0.59801768 0.59801768\n",
            " 0.59768366 0.59626608 0.59626608 0.59558533 0.59507426 0.59354483\n",
            " 0.59334833 0.59334833 0.59334833 0.59318076 0.59066665 0.58996332\n",
            " 0.5851959  0.58263083 0.58101063 0.58084621 0.57456102 0.5640783\n",
            " 0.55747913 0.55747913 0.55354489 0.54605095 0.54477901 0.54379707\n",
            " 0.54356673 0.54139111 0.53970924 0.53853042 0.53624771 0.5358746\n",
            " 0.53552618 0.5316933  0.53132486 0.53118013 0.52761321 0.52681892\n",
            " 0.5227487  0.52252555 0.52245675 0.52077925 0.51963646 0.51963646\n",
            " 0.51896326 0.51523121 0.51523121 0.51064772 0.5103255  0.48906921\n",
            " 0.48729336 0.48223417 0.4775947  0.46286373 0.45792759]\n",
            "\n",
            "길이 비교 569 569\n",
            "\n"
          ]
        },
        {
          "output_type": "execute_result",
          "data": {
            "text/plain": [
              "Text(0.5, 1.0, '1')"
            ]
          },
          "metadata": {},
          "execution_count": 128
        },
        {
          "output_type": "display_data",
          "data": {
            "image/png": "[encoded data removed]",
            "text/plain": [
              "<Figure size 1080x720 with 1 Axes>"
            ]
          },
          "metadata": {
            "needs_background": "light"
          }
        }
      ]
    }
  ]
}