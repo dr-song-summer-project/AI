{
  "nbformat": 4,
  "nbformat_minor": 0,
  "metadata": {
    "colab": {
      "name": "K Means - NLP.ipynb",
      "provenance": [],
      "collapsed_sections": [],
      "authorship_tag": "ABX9TyOjgMWbCmqe1LvXZnEg0LqM",
      "include_colab_link": true
    },
    "kernelspec": {
      "name": "python3",
      "display_name": "Python 3"
    },
    "language_info": {
      "name": "python"
    }
  },
  "cells": [
    {
      "cell_type": "markdown",
      "metadata": {
        "id": "view-in-github",
        "colab_type": "text"
      },
      "source": [
        "<a href=\"https://colab.research.google.com/github/dr-song-summer-project/AI/blob/main/Clustering/K_Means_NLP.ipynb\" target=\"_parent\"><img src=\"https://colab.research.google.com/assets/colab-badge.svg\" alt=\"Open In Colab\"/></a>"
      ]
    },
    {
      "cell_type": "markdown",
      "metadata": {
        "id": "mkV61Je6Ta6b"
      },
      "source": [
        "**https://techblog-history-younghunjo1.tistory.com/114**"
      ]
    },
    {
      "cell_type": "code",
      "metadata": {
        "colab": {
          "base_uri": "https://localhost:8080/"
        },
        "id": "iOPUxPYTP5yf",
        "outputId": "8e8a4629-5725-4cca-8a0f-bdeff397bc04"
      },
      "source": [
        "from google.colab import drive\n",
        "drive.mount('/content/drive')"
      ],
      "execution_count": null,
      "outputs": [
        {
          "output_type": "stream",
          "name": "stdout",
          "text": [
            "Mounted at /content/drive\n"
          ]
        }
      ]
    },
    {
      "cell_type": "code",
      "metadata": {
        "id": "CEWp_02gTE1L"
      },
      "source": [
        "clustering_num = 15\n",
        "similarity_cmp = 'reviewRate'"
      ],
      "execution_count": null,
      "outputs": []
    },
    {
      "cell_type": "code",
      "metadata": {
        "colab": {
          "base_uri": "https://localhost:8080/",
          "height": 205
        },
        "id": "eE4kHmgBP6Lu",
        "outputId": "f04f0791-b0d6-4ff1-f678-28341e19145a"
      },
      "source": [
        "# 학습용 데이터셋 불러오기\n",
        "import pandas as pd\n",
        "document_df = pd.read_excel('/content/drive/My Drive/닥터송 여름 프로젝트/4. 대-스타 해결 2/09.(주)맘편한세상_데이터/unlabeled_data_keyword_sen.xlsx')\n",
        "# document_df.head()\n",
        "\n",
        "document_df.drop(['encodedSenderId', 'encodedTargetId', 'DateTime'], axis=1, inplace=True)\n",
        "document_df.head()"
      ],
      "execution_count": null,
      "outputs": [
        {
          "output_type": "execute_result",
          "data": {
            "text/html": [
              "<div>\n",
              "<style scoped>\n",
              "    .dataframe tbody tr th:only-of-type {\n",
              "        vertical-align: middle;\n",
              "    }\n",
              "\n",
              "    .dataframe tbody tr th {\n",
              "        vertical-align: top;\n",
              "    }\n",
              "\n",
              "    .dataframe thead th {\n",
              "        text-align: right;\n",
              "    }\n",
              "</style>\n",
              "<table border=\"1\" class=\"dataframe\">\n",
              "  <thead>\n",
              "    <tr style=\"text-align: right;\">\n",
              "      <th></th>\n",
              "      <th>reviewIndex</th>\n",
              "      <th>reviewContent</th>\n",
              "      <th>reviewRate</th>\n",
              "      <th>reviewType</th>\n",
              "    </tr>\n",
              "  </thead>\n",
              "  <tbody>\n",
              "    <tr>\n",
              "      <th>0</th>\n",
              "      <td>0</td>\n",
              "      <td>시간 곧 일 불만족 부분 나름 조율 조건 조율 과정 바로 워킹맘 입장 매우</td>\n",
              "      <td>1</td>\n",
              "      <td>recruitReview</td>\n",
              "    </tr>\n",
              "    <tr>\n",
              "      <th>1</th>\n",
              "      <td>1</td>\n",
              "      <td>자신감 아기 거 홧팅</td>\n",
              "      <td>3</td>\n",
              "      <td>recruitReview</td>\n",
              "    </tr>\n",
              "    <tr>\n",
              "      <th>2</th>\n",
              "      <td>2</td>\n",
              "      <td>아이 의사 표현 아이 터 어머님께</td>\n",
              "      <td>3</td>\n",
              "      <td>recruitReview</td>\n",
              "    </tr>\n",
              "    <tr>\n",
              "      <th>3</th>\n",
              "      <td>3</td>\n",
              "      <td>사정</td>\n",
              "      <td>3</td>\n",
              "      <td>recruitReview</td>\n",
              "    </tr>\n",
              "    <tr>\n",
              "      <th>4</th>\n",
              "      <td>4</td>\n",
              "      <td>전화 인터뷰 때 집 오신 첫 날 정기 사전 말씀 이사 곳도 수 이 동의 두번째 날 ...</td>\n",
              "      <td>1</td>\n",
              "      <td>recruitReview</td>\n",
              "    </tr>\n",
              "  </tbody>\n",
              "</table>\n",
              "</div>"
            ],
            "text/plain": [
              "   reviewIndex  ...     reviewType\n",
              "0            0  ...  recruitReview\n",
              "1            1  ...  recruitReview\n",
              "2            2  ...  recruitReview\n",
              "3            3  ...  recruitReview\n",
              "4            4  ...  recruitReview\n",
              "\n",
              "[5 rows x 4 columns]"
            ]
          },
          "metadata": {},
          "execution_count": 16
        }
      ]
    },
    {
      "cell_type": "code",
      "metadata": {
        "colab": {
          "base_uri": "https://localhost:8080/"
        },
        "id": "yaED_YtuQbtG",
        "outputId": "21152c70-b3fd-401e-ea5b-83f25638d16c"
      },
      "source": [
        "# 텍스트 단어들의 어근 원형을 추출하기 위해 함수 생성\n",
        "from sklearn.feature_extraction.text import TfidfVectorizer\n",
        "from nltk.stem import WordNetLemmatizer\n",
        "import nltk\n",
        "import string\n",
        "nltk.download('punkt')\n",
        "nltk.download('wordnet')\n",
        "# string.puncutaion에 문자열의 모든 구두점이 들어있음\n",
        "# 이를 활용해서 Tokenize시킬 때 구두점들을 제외하기 위한 것\n",
        "# ord('문자열') => 문자열의 ASCII코드를 반환해줌!\n",
        "# dict(key, value)형태로 모든 구두점의 각 ASCII코드를 key값으로 넣어주자!\n",
        "remove_punct_dict = dict((ord(punct), None) for punct in string.punctuation)\n",
        "lemmar = WordNetLemmatizer()\n",
        "\n",
        "# 토큰화한 각 단어들의 원형들을 리스트로 담아서 반환\n",
        "def LemTokens(tokens):\n",
        "    return [lemmar.lemmatize(token) for token in tokens]\n",
        "# 텍스트를 Input으로 넣어서 토큰화시키고 토큰화된 단어들의 원형들을 리스트로 담아 반환\n",
        "def LemNormalize(text):\n",
        "    # .translate인자에 구두점 dict넣어주어서 구두점 삭제해준 상태로 토큰화시키기!\n",
        "    return LemTokens(nltk.word_tokenize(text.lower().translate(remove_punct_dict)))\n",
        "\n",
        "# Tf-idf 벡터화시키면서 cusotmized해준 토큰화+어근추출 방식 tokenizer인자에 넣어주기\n",
        "# 벡터화시킬 Tf-idf 도구 옵션 추가해서 구축\n",
        "# 1,2gram적용, 빈도수 0.05이하, 0.85이상의 빈도수 단어들 제거\n",
        "tfidf_vect = TfidfVectorizer(tokenizer=LemNormalize,\n",
        "                            stop_words='english', ngram_range=(1,2),\n",
        "                            min_df=0.05, max_df=0.85)\n",
        "# fit_transform으로 위에서 구축한 도구로 텍스트 벡터화\n",
        "# ftr_vect = tfidf_vect.fit_transform(document_df['reviewContent'])\n",
        "ftr_vect = tfidf_vect.fit_transform(document_df['reviewContent'].values.astype('U'))\n",
        "print(ftr_vect.shape)"
      ],
      "execution_count": null,
      "outputs": [
        {
          "output_type": "stream",
          "name": "stdout",
          "text": [
            "[nltk_data] Downloading package punkt to /root/nltk_data...\n",
            "[nltk_data]   Package punkt is already up-to-date!\n",
            "[nltk_data] Downloading package wordnet to /root/nltk_data...\n",
            "[nltk_data]   Package wordnet is already up-to-date!\n"
          ]
        },
        {
          "output_type": "stream",
          "name": "stderr",
          "text": [
            "/usr/local/lib/python3.7/dist-packages/sklearn/feature_extraction/text.py:385: UserWarning: Your stop_words may be inconsistent with your preprocessing. Tokenizing the stop words generated tokens ['ha', 'le', 'u', 'wa'] not in stop_words.\n",
            "  'stop_words.' % sorted(inconsistent))\n"
          ]
        },
        {
          "output_type": "stream",
          "name": "stdout",
          "text": [
            "(13283, 22)\n"
          ]
        }
      ]
    },
    {
      "cell_type": "code",
      "metadata": {
        "colab": {
          "base_uri": "https://localhost:8080/"
        },
        "id": "hNAkX0qHQy91",
        "outputId": "6c0c9af4-d772-49e9-a8ff-b352669dbe60"
      },
      "source": [
        "# K-means로 clustering_num개 군집으로 문서 군집화시키기\n",
        "from sklearn.cluster import KMeans\n",
        "\n",
        "kmeans = KMeans(n_clusters=clustering_num, max_iter=10000, random_state=42)\n",
        "# 비지도 학습이니 feature로만 학습시키고 예측\n",
        "cluster_label = kmeans.fit_predict(ftr_vect)\n",
        "\n",
        "print(cluster_label)\n",
        "\n",
        "# 군집화한 레이블값들을 document_df 에 추가하기\n",
        "document_df['cluster_label'] = cluster_label\n",
        "print(document_df.sort_values(by=['cluster_label']))\n",
        "# document_df['reviewType']"
      ],
      "execution_count": null,
      "outputs": [
        {
          "output_type": "stream",
          "name": "stdout",
          "text": [
            "[10  8 13 ...  4  9  3]\n",
            "       reviewIndex               reviewContent  ...       reviewType cluster_label\n",
            "8151          8151                        채용 치  ...  interviewReview             0\n",
            "5961          5961                    요청 시급 채용  ...  interviewReview             0\n",
            "3040          3040  예뻣던 어머님 아버님 기대 최선 다해 생각 채용  ...    recruitReview             0\n",
            "5969          5969                    기관 정규 채용  ...  interviewReview             0\n",
            "11645        11645                거리 등교 도우미 채용  ...    failureReview             0\n",
            "...            ...                         ...  ...              ...           ...\n",
            "12760        12760                     정기 워 인연  ...    failureReview            14\n",
            "1577          1577                     인연 엄마 맘  ...    recruitReview            14\n",
            "6703          6703            어머님 예정일 남아 바로 인연  ...  interviewReview            14\n",
            "5438          5438        집 근처 터 결정 연락 다음 인연 해  ...  interviewReview            14\n",
            "9683          9683                터 시간 담 기회 인연  ...    failureReview            14\n",
            "\n",
            "[13283 rows x 5 columns]\n"
          ]
        }
      ]
    },
    {
      "cell_type": "code",
      "metadata": {
        "id": "1iDwcCZcubg6"
      },
      "source": [
        "document_df.to_excel('clustering_result.xlsx', header=True, index=False)"
      ],
      "execution_count": null,
      "outputs": []
    },
    {
      "cell_type": "code",
      "metadata": {
        "colab": {
          "base_uri": "https://localhost:8080/",
          "height": 475
        },
        "id": "LTrXrDagT5pq",
        "outputId": "c75d5975-21a8-4e8e-8629-a4a71c874564"
      },
      "source": [
        "import matplotlib.pyplot as plt\n",
        "import seaborn as sb\n",
        "%matplotlib inline\n",
        "\n",
        "sb.lmplot('cluster_label', 'reviewRate', data=document_df, fit_reg=False, scatter_kws={\"s\":1})\n",
        "\n",
        "plt.title('clustering result')"
      ],
      "execution_count": null,
      "outputs": [
        {
          "output_type": "stream",
          "name": "stderr",
          "text": [
            "/usr/local/lib/python3.7/dist-packages/seaborn/_decorators.py:43: FutureWarning: Pass the following variables as keyword args: x, y. From version 0.12, the only valid positional argument will be `data`, and passing other arguments without an explicit keyword will result in an error or misinterpretation.\n",
            "  FutureWarning\n"
          ]
        },
        {
          "output_type": "execute_result",
          "data": {
            "text/plain": [
              "Text(0.5, 1.0, 'clustering result')"
            ]
          },
          "metadata": {},
          "execution_count": 32
        },
        {
          "output_type": "display_data",
          "data": {
            "image/png": "[encoded data removed]",
            "text/plain": [
              "<Figure size 360x360 with 1 Axes>"
            ]
          },
          "metadata": {
            "needs_background": "light"
          }
        }
      ]
    },
    {
      "cell_type": "code",
      "metadata": {
        "id": "Eg3RuKaORAS9",
        "colab": {
          "base_uri": "https://localhost:8080/"
        },
        "outputId": "afb78bfa-7695-413c-fb13-b3b0c38dbf21"
      },
      "source": [
        "def get_cluster_details(cluster_model, cluster_data, feature_names,\n",
        "                       cluster_num, top_n_features=10):\n",
        "    cluster_details = {}\n",
        "    # 각 클러스터 레이블별 feature들의 center값들 내림차순으로 정렬 후의 인덱스를 반환\n",
        "    center_feature_idx = cluster_model.cluster_centers_.argsort()[:,::-1]\n",
        "    \n",
        "    # 개별 클러스터 레이블별로 \n",
        "    for cluster_num in range(cluster_num):\n",
        "        # 개별 클러스터별 정보를 담을 empty dict할당\n",
        "        cluster_details[cluster_num] = {}\n",
        "        cluster_details[cluster_num]['cluster'] = cluster_num\n",
        "        \n",
        "        # 각 feature별 center값들 정렬한 인덱스 중 상위 10개만 추출\n",
        "        top_ftr_idx = center_feature_idx[cluster_num, :top_n_features]\n",
        "        top_ftr = [feature_names[idx] for idx in top_ftr_idx]\n",
        "        # top_ftr_idx를 활용해서 상위 10개 feature들의 center값들 반환\n",
        "        # 반환하게 되면 array이기 떄문에 리스트로바꾸기\n",
        "        top_ftr_val = cluster_model.cluster_centers_[cluster_num, top_ftr_idx].tolist()\n",
        "        \n",
        "        # cluster_details 딕셔너리에다가 개별 군집 정보 넣어주기\n",
        "        cluster_details[cluster_num]['top_features'] = top_ftr\n",
        "        cluster_details[cluster_num]['top_featrues_value'] = top_ftr_val\n",
        "        # 해당 cluster_num으로 분류된 파일명(문서들) 넣어주기\n",
        "        filenames = cluster_data[cluster_data['cluster_label']==cluster_num][similarity_cmp]\n",
        "        # filenames가 df으로 반환되기 떄문에 값들만 출력해서 array->list로 변환\n",
        "        filenames = filenames.values.tolist()\n",
        "        cluster_details[cluster_num]['filenames'] = filenames\n",
        "    \n",
        "    return cluster_details\n",
        "\n",
        "def print_cluster_details(cluster_details):\n",
        "    for cluster_num, cluster_detail in cluster_details.items():\n",
        "        print(f\"#####Cluster Num: {cluster_num}\")\n",
        "        print()\n",
        "        print(\"상위 10개 feature단어들:\\n\", cluster_detail['top_features'])\n",
        "        print()\n",
        "        print(f\"Cluster {cluster_num}으로 분류된 문서들:\\n{cluster_detail['filenames'][:5]}\")\n",
        "        print('-'*20)\n",
        "\n",
        "feature_names = tfidf_vect.get_feature_names()\n",
        "cluster_details = get_cluster_details(cluster_model=kmeans,\n",
        "                                     cluster_data=document_df,\n",
        "                                     feature_names=feature_names,\n",
        "                                     cluster_num=clustering_num,\n",
        "                                     top_n_features=10)\n",
        "print_cluster_details(cluster_details)"
      ],
      "execution_count": null,
      "outputs": [
        {
          "output_type": "stream",
          "name": "stdout",
          "text": [
            "#####Cluster Num: 0\n",
            "\n",
            "상위 10개 feature단어들:\n",
            " ['채용', '연락', '아이', '인터뷰', '기회', '다음', '전화', '저', '분', '수락']\n",
            "\n",
            "Cluster 0으로 분류된 문서들:\n",
            "[1, 2, 1, 3, 3]\n",
            "--------------------\n",
            "#####Cluster Num: 1\n",
            "\n",
            "상위 10개 feature단어들:\n",
            " ['다음', '기회', '다음 기회', '연락', '채용', '시간', '아이', '인연', '신청', '수락']\n",
            "\n",
            "Cluster 1으로 분류된 문서들:\n",
            "[3, 3, 3, 3, 1]\n",
            "--------------------\n",
            "#####Cluster Num: 2\n",
            "\n",
            "상위 10개 feature단어들:\n",
            " ['문자', '연락', '전화', '시간', '채용', '인터뷰', '분', '터', '후', '제']\n",
            "\n",
            "Cluster 2으로 분류된 문서들:\n",
            "[1, 1, 1, 1, 1]\n",
            "--------------------\n",
            "#####Cluster Num: 3\n",
            "\n",
            "상위 10개 feature단어들:\n",
            " ['연락', '다음', '시간', '기회', '채용', '수락', '전화', '신청', '저', '아이']\n",
            "\n",
            "Cluster 3으로 분류된 문서들:\n",
            "[3, 3, 3, 3, 1]\n",
            "--------------------\n",
            "#####Cluster Num: 4\n",
            "\n",
            "상위 10개 feature단어들:\n",
            " ['제', '연락', '시간', '신청', '터', '분', '아이', '채용', '저', '다음']\n",
            "\n",
            "Cluster 4으로 분류된 문서들:\n",
            "[1, 2, 3, 1, 2]\n",
            "--------------------\n",
            "#####Cluster Num: 5\n",
            "\n",
            "상위 10개 feature단어들:\n",
            " ['인터뷰', '전화', '신청', '저', '연락', '수락', '시간', '아이', '다음', '채용']\n",
            "\n",
            "Cluster 5으로 분류된 문서들:\n",
            "[3, 3, 3, 3, 3]\n",
            "--------------------\n",
            "#####Cluster Num: 6\n",
            "\n",
            "상위 10개 feature단어들:\n",
            " ['수락', '수락 연락', '연락', '터', '신청', '인연', '다음', '인터뷰', '기회', '분']\n",
            "\n",
            "Cluster 6으로 분류된 문서들:\n",
            "[1, 2, 1, 1, 1]\n",
            "--------------------\n",
            "#####Cluster Num: 7\n",
            "\n",
            "상위 10개 feature단어들:\n",
            " ['분', '연락', '채용', '시간', '아이', '인터뷰', '터', '전화', '저', '신청']\n",
            "\n",
            "Cluster 7으로 분류된 문서들:\n",
            "[2, 3, 1, 3, 3]\n",
            "--------------------\n",
            "#####Cluster Num: 8\n",
            "\n",
            "상위 10개 feature단어들:\n",
            " ['아기', '시간', '터', '분', '아이', '채용', '제', '다음', '저', '인터뷰']\n",
            "\n",
            "Cluster 8으로 분류된 문서들:\n",
            "[3, 3, 3, 1, 3]\n",
            "--------------------\n",
            "#####Cluster Num: 9\n",
            "\n",
            "상위 10개 feature단어들:\n",
            " ['오지', '연락 오지', '연락', '수락', '수락 연락', '후', '터', '신청', '다음', '기회']\n",
            "\n",
            "Cluster 9으로 분류된 문서들:\n",
            "[2, 1, 1, 1, 1]\n",
            "--------------------\n",
            "#####Cluster Num: 10\n",
            "\n",
            "상위 10개 feature단어들:\n",
            " ['시간', '채용', '연락', '다음', '인터뷰', '저', '아이', '신청', '기회', '전화']\n",
            "\n",
            "Cluster 10으로 분류된 문서들:\n",
            "[1, 3, 3, 1, 2]\n",
            "--------------------\n",
            "#####Cluster Num: 11\n",
            "\n",
            "상위 10개 feature단어들:\n",
            " ['터', '연락', '시간', '채용', '아이', '인터뷰', '신청', '저', '수락', '전화']\n",
            "\n",
            "Cluster 11으로 분류된 문서들:\n",
            "[1, 3, 1, 3, 1]\n",
            "--------------------\n",
            "#####Cluster Num: 12\n",
            "\n",
            "상위 10개 feature단어들:\n",
            " ['후', '연락', '수락', '인터뷰', '전화', '신청', '채용', '아이', '터', '시간']\n",
            "\n",
            "Cluster 12으로 분류된 문서들:\n",
            "[1, 1, 1, 1, 2]\n",
            "--------------------\n",
            "#####Cluster Num: 13\n",
            "\n",
            "상위 10개 feature단어들:\n",
            " ['아이', '시간', '저', '연락', '다음', '터', '제', '기회', '인터뷰', '채용']\n",
            "\n",
            "Cluster 13으로 분류된 문서들:\n",
            "[3, 1, 1, 3, 3]\n",
            "--------------------\n",
            "#####Cluster Num: 14\n",
            "\n",
            "상위 10개 feature단어들:\n",
            " ['인연', '다음', '연락', '시간', '아이', '분', '채용', '터', '인터뷰', '저']\n",
            "\n",
            "Cluster 14으로 분류된 문서들:\n",
            "[3, 2, 3, 3, 3]\n",
            "--------------------\n"
          ]
        }
      ]
    },
    {
      "cell_type": "code",
      "metadata": {
        "id": "eUhjPvn-SuI0",
        "colab": {
          "base_uri": "https://localhost:8080/"
        },
        "outputId": "1554e1c0-3732-4991-ac34-3e9b5418be6f"
      },
      "source": [
        "# 클러스터링된 문서들 중에서 특정 문서를 하나 선택한 후 비슷한 문서 추출\n",
        "from sklearn.metrics.pairwise import cosine_similarity\n",
        "random_int = 1\n",
        "hotel_idx = document_df[document_df['cluster_label']==0].index\n",
        "print(\"호텔 카테고리로 클러스터링된 문서들의 인덱스:\\n\",hotel_idx)\n",
        "print()\n",
        "# 호텔 카테고리로 클러스터링 된 문서들의 인덱스 중 하나 선택해 비교 기준으로 삼을 문서 선정\n",
        "comparison_doc = document_df.iloc[hotel_idx[random_int]][similarity_cmp]\n",
        "print(\"##유사도 비교 기준 문서 이름:\",comparison_doc,'##')\n",
        "print()\n",
        "\n",
        "# 위에서 추출한 호텔 카테고리로 클러스터링된 문서들의 인덱스 중 0번인덱스(비교기준문서)제외한\n",
        "# 다른 문서들과의 유사도 측정\n",
        "similarity = cosine_similarity(ftr_vect[hotel_idx[random_int]], ftr_vect[hotel_idx])\n",
        "print(similarity)"
      ],
      "execution_count": null,
      "outputs": [
        {
          "output_type": "stream",
          "name": "stdout",
          "text": [
            "호텔 카테고리로 클러스터링된 문서들의 인덱스:\n",
            " Int64Index([   60,   159,   196,   197,   199,   204,   208,   222,   234,\n",
            "              256,\n",
            "            ...\n",
            "            12875, 12890, 12891, 12892, 13030, 13076, 13127, 13159, 13176,\n",
            "            13278],\n",
            "           dtype='int64', length=706)\n",
            "\n",
            "##유사도 비교 기준 문서 이름: 2 ##\n",
            "\n",
            "[[0.69632434 1.         0.90787319 0.90787319 0.90787319 0.95139089\n",
            "  0.90787319 0.7473522  0.80878501 0.90787319 0.90787319 0.90787319\n",
            "  0.95139089 0.83257212 0.95139089 0.89513058 0.90787319 0.68767615\n",
            "  0.864731   0.90787319 0.95139089 0.90787319 0.90787319 0.95139089\n",
            "  0.90787319 0.76481577 0.76481577 0.90787319 0.90787319 0.89092833\n",
            "  0.90787319 0.95139089 0.54921675 0.58010866 0.90787319 0.90787319\n",
            "  0.95139089 0.90787319 0.95139089 0.90787319 0.90787319 0.80491827\n",
            "  0.90787319 0.76481577 0.90787319 0.71849884 0.90787319 0.69059125\n",
            "  0.95139089 0.63561369 0.90787319 0.56238983 0.76481577 0.68394376\n",
            "  0.81193729 0.90787319 0.90787319 0.90787319 0.90787319 0.90787319\n",
            "  0.90787319 0.90787319 0.59289943 0.6428152  0.58195755 0.90787319\n",
            "  0.63561369 0.95139089 0.69235819 0.95139089 0.95139089 0.90787319\n",
            "  0.69312812 0.90787319 0.95139089 0.81874058 0.7680367  0.90787319\n",
            "  0.90787319 0.67919694 0.95139089 0.71734391 0.90787319 0.95139089\n",
            "  0.95139089 0.76481577 0.90787319 0.90787319 0.99104043 0.80038151\n",
            "  0.90787319 0.95139089 0.95139089 0.54106398 0.90787319 0.47741873\n",
            "  0.90787319 0.95139089 0.54106398 0.95139089 0.75389498 0.95139089\n",
            "  0.95139089 0.71734391 0.90787319 0.90787319 0.76481577 0.90787319\n",
            "  0.90787319 0.90787319 0.90787319 0.90787319 0.90787319 0.90787319\n",
            "  0.90787319 0.90787319 0.90787319 0.90787319 0.90787319 0.90787319\n",
            "  0.90787319 0.95139089 0.90787319 0.90787319 0.55625327 0.90787319\n",
            "  0.58524969 0.90787319 0.90787319 0.90787319 0.90787319 0.90787319\n",
            "  0.76481577 0.58524969 0.69602777 0.90787319 0.90787319 0.80228766\n",
            "  0.90787319 0.76481577 0.90787319 0.76481577 0.76481577 0.90787319\n",
            "  0.65261111 0.76481577 0.54423125 0.90787319 0.90787319 0.90787319\n",
            "  0.76481577 0.90787319 0.90787319 0.90787319 0.90787319 0.90787319\n",
            "  0.90787319 0.90787319 0.90787319 0.90787319 0.54921675 0.90787319\n",
            "  0.90787319 0.90787319 0.90787319 0.45188725 0.76481577 0.90787319\n",
            "  0.90787319 0.90787319 0.58524969 0.71258699 0.90787319 0.58524969\n",
            "  0.90787319 0.90787319 0.62696133 0.90787319 0.90787319 0.90787319\n",
            "  0.58524969 0.95139089 0.90787319 0.90787319 0.76481577 0.76481577\n",
            "  0.90787319 0.90787319 0.76481577 0.90787319 0.90787319 0.90787319\n",
            "  0.90787319 0.90787319 0.95139089 0.58010866 0.76481577 0.78030312\n",
            "  0.90787319 0.90787319 0.90787319 0.90787319 0.79466374 0.95139089\n",
            "  0.90787319 0.90787319 0.90787319 0.90787319 0.864731   0.90787319\n",
            "  0.90787319 0.90787319 0.90787319 0.54921675 0.90787319 0.90787319\n",
            "  0.90787319 0.54423125 0.90787319 0.90787319 0.90787319 0.90787319\n",
            "  0.76481577 0.90787319 0.90787319 0.90787319 0.64269622 0.90787319\n",
            "  0.75506746 0.58622725 0.90787319 0.90787319 0.90787319 0.90787319\n",
            "  0.90787319 0.90787319 0.90787319 0.65255166 0.79320517 0.90787319\n",
            "  0.90787319 0.90787319 0.90787319 0.95139089 0.90787319 0.90787319\n",
            "  0.90787319 0.90787319 0.90787319 0.90787319 0.90787319 0.90787319\n",
            "  0.90787319 0.90787319 0.90787319 0.58524969 0.64391437 0.90787319\n",
            "  0.90787319 0.90787319 0.90787319 0.71848666 0.90787319 0.55625327\n",
            "  0.90787319 0.90787319 0.90787319 0.95139089 0.90787319 0.72441446\n",
            "  0.90787319 0.90787319 0.90787319 0.90787319 0.60920407 0.71734391\n",
            "  0.90787319 0.95139089 0.90787319 0.90787319 0.73509184 0.76481577\n",
            "  0.90787319 0.64107161 0.76481577 0.58524969 0.54921675 0.90787319\n",
            "  0.73023792 0.90787319 0.90787319 0.90787319 0.90787319 0.79320517\n",
            "  0.90787319 0.90787319 0.90787319 0.90787319 0.90787319 0.90787319\n",
            "  0.90787319 0.90787319 0.90787319 0.90787319 0.90787319 0.76107384\n",
            "  0.95139089 0.90787319 0.90787319 0.90787319 0.90787319 0.90787319\n",
            "  0.90787319 0.90787319 0.90787319 0.90787319 0.90787319 0.90787319\n",
            "  0.76481577 0.90787319 0.76481577 0.58524969 0.90787319 0.90787319\n",
            "  0.90787319 0.90787319 0.90787319 0.79320517 0.90787319 0.90787319\n",
            "  0.54423125 0.90787319 0.90787319 0.90787319 0.58524969 0.76481577\n",
            "  0.90787319 0.90787319 0.90787319 0.90787319 0.90787319 0.90787319\n",
            "  0.58524969 0.90787319 0.90787319 0.90787319 0.90787319 0.90787319\n",
            "  0.90787319 0.90787319 0.90787319 0.55625327 0.90787319 0.90787319\n",
            "  0.76481577 0.90787319 0.58010866 0.95139089 0.54921675 0.90787319\n",
            "  0.90787319 0.90787319 0.90787319 0.90787319 0.90787319 0.90787319\n",
            "  0.90787319 0.90787319 0.58524969 0.63633628 0.60920407 0.90787319\n",
            "  0.54423125 0.54921675 0.76481577 0.90787319 0.90787319 0.76481577\n",
            "  0.90787319 0.90787319 0.90787319 0.90787319 0.90787319 0.76481577\n",
            "  0.90787319 0.90787319 0.58524969 0.90787319 0.90787319 0.90787319\n",
            "  0.90787319 0.90787319 0.90787319 0.90787319 0.76481577 0.90787319\n",
            "  0.90787319 0.90787319 0.54921675 0.46062384 0.90787319 0.76481577\n",
            "  0.90787319 0.90787319 0.76481577 0.90787319 0.90787319 0.60920407\n",
            "  0.90787319 0.90787319 0.90787319 0.95139089 0.65255166 0.76481577\n",
            "  0.90787319 0.90787319 0.90787319 0.90787319 0.90787319 0.90787319\n",
            "  0.90787319 0.54106398 0.90787319 0.95139089 0.90787319 0.90787319\n",
            "  0.60920407 0.90787319 0.63996119 0.90787319 0.76481577 0.90787319\n",
            "  0.76481577 0.63561369 0.90787319 0.90787319 0.90787319 0.54423125\n",
            "  0.76481577 0.76481577 0.76481577 0.90787319 0.90787319 0.71734391\n",
            "  0.90787319 0.90787319 0.90787319 0.90787319 0.90787319 0.90787319\n",
            "  0.90787319 0.864731   0.90787319 0.95139089 0.90787319 0.60920407\n",
            "  0.74269091 0.90787319 0.90787319 0.90787319 0.90787319 0.82126783\n",
            "  0.95139089 0.90787319 0.90787319 0.86295296 0.58524969 0.59289943\n",
            "  0.90787319 0.90787319 0.90787319 0.60920407 0.90787319 0.60920407\n",
            "  0.58524969 0.90787319 0.74269091 0.71734391 0.90787319 0.95139089\n",
            "  0.90787319 0.90787319 0.90787319 0.90787319 0.90787319 0.76481577\n",
            "  0.95139089 0.90787319 0.63561369 0.90787319 0.90787319 0.90787319\n",
            "  0.90787319 0.63561369 0.90787319 0.90787319 0.60920407 1.\n",
            "  0.90787319 0.90787319 0.90787319 0.90787319 0.58524969 0.7414998\n",
            "  0.63561369 0.90787319 0.90787319 0.54921675 0.90787319 0.90787319\n",
            "  0.90787319 0.90787319 0.90787319 0.90787319 0.90787319 0.90787319\n",
            "  0.90787319 0.90787319 0.90787319 0.90787319 0.90787319 0.90787319\n",
            "  0.90787319 0.90787319 0.76481577 0.90787319 0.90787319 0.90787319\n",
            "  0.76481577 0.90787319 0.46741267 0.90787319 0.90787319 0.90787319\n",
            "  0.79320517 0.60920407 0.76481577 0.90787319 0.80878501 0.90787319\n",
            "  0.90787319 0.90787319 0.90787319 0.55625327 0.90787319 0.90787319\n",
            "  0.90787319 0.90787319 0.90787319 0.69393999 0.60920407 0.90787319\n",
            "  0.76481577 0.79466374 0.76481577 0.58010866 0.54423125 0.90787319\n",
            "  0.90787319 0.90787319 0.90787319 0.90787319 0.60920407 0.90787319\n",
            "  0.90787319 0.76481577 0.90787319 0.68394376 0.79320517 0.90787319\n",
            "  0.90787319 0.90787319 0.90787319 0.95139089 0.50816067 0.63561369\n",
            "  0.90787319 0.90787319 0.90787319 0.90787319 0.90787319 0.76481577\n",
            "  0.90787319 0.90787319 0.60920407 0.90787319 0.90787319 0.76481577\n",
            "  0.90787319 0.83257212 0.90787319 0.60920407 0.59398612 0.90787319\n",
            "  0.84292692 0.90787319 0.79320517 0.90787319 0.60920407 0.60920407\n",
            "  0.90787319 0.63561369 0.90787319 0.60920407 0.90787319 0.58524969\n",
            "  0.90787319 0.90787319 0.76481577 0.76481577 0.57800351 0.76481577\n",
            "  0.76481577 0.76481577 0.90787319 0.76481577 0.76481577 0.90787319\n",
            "  0.90787319 0.44686966 0.90787319 0.76481577 0.86107747 0.90787319\n",
            "  0.86107747 0.90787319 0.90787319 0.76481577 0.76481577 0.76481577\n",
            "  0.76481577 0.76481577 0.65255166 0.70028885 0.65255166 0.76481577\n",
            "  0.76481577 0.69393999 0.95139089 0.59289943 0.51221198 0.76481577\n",
            "  0.90787319 0.69751259 0.90787319 0.76481577 0.76481577 0.90787319\n",
            "  0.90787319 0.55625327 0.90787319 0.90787319 0.90787319 0.90787319\n",
            "  0.76481577 0.90787319 0.90787319 0.76481577 0.60920407 0.90787319\n",
            "  0.90787319 0.55625327 0.90787319 0.76481577 0.90787319 0.90787319\n",
            "  0.76481577 0.76481577 0.90787319 0.63561369 0.47852812 0.90787319\n",
            "  0.90787319 0.90787319 0.60789389 0.90787319 0.90787319 0.90787319\n",
            "  0.76481577 0.76481577 0.76481577 0.76139543 0.76481577 0.90787319\n",
            "  0.90787319 0.90787319 0.76481577 0.76481577 0.90787319 0.76481577\n",
            "  0.90787319 0.79320517 0.90787319 0.90787319 0.90787319 0.90787319\n",
            "  0.90787319 0.60920407 0.60920407 0.90787319 0.95139089 0.54106398\n",
            "  0.76481577 0.76481577 0.864731   0.95139089]]\n"
          ]
        }
      ]
    },
    {
      "cell_type": "code",
      "metadata": {
        "colab": {
          "base_uri": "https://localhost:8080/",
          "height": 1000
        },
        "id": "fQepZ0a1SyET",
        "outputId": "500ace4d-33a0-448e-c0a0-aeacd31843e9"
      },
      "source": [
        "# 비교기준 문서와 다른 문서들간의 유사도 살펴보기\n",
        "import seaborn as sns\n",
        "import numpy as np\n",
        "import matplotlib.pyplot as plt\n",
        "# array 내림차순으로 정렬한 후 인덱스 반환 [:,::-1] 모든행에 대해서 열을 내림차순으로!\n",
        "sorted_idx = similarity.argsort()[:,::-1]\n",
        "# 비교문서 당사자는 제외한 인덱스 추출\n",
        "sorted_idx = sorted_idx[:, 1:]\n",
        "\n",
        "# 유사도가 큰 순으로 hotel_idx(label=1인 즉, 호텔과관련된 내용의 문서이름들의 index들)에서 재 정렬 \n",
        "# index로 넣으려면 1차원으로 reshape해주기!\n",
        "hotel_sorted_idx = hotel_idx[sorted_idx.reshape(-1,)]\n",
        "# 유사도 행렬값들을 유사도가 큰 순으로 재정렬(비교 문서 당사자는 제외)\n",
        "hotel_sim_values = np.sort(similarity.reshape(-1,))[::-1]\n",
        "hotel_sim_values = hotel_sim_values[1:]\n",
        "# 이렇게 되면 비교문서와 가장 유사한 순으로 '해당문서의index-유사도값' 으로 동일한 위치가 매핑된 두 개의 array!\n",
        "# 그래서 그대로 데이터프레임의 각 칼럼으로 넣어주기\n",
        "print(hotel_sorted_idx)\n",
        "print(hotel_sim_values)\n",
        "print()\n",
        "print(\"길이 비교\", len(hotel_sorted_idx), len(hotel_sim_values))\n",
        "print()\n",
        "# 빈 데이터프레임 생성\n",
        "hotel_sim_df = pd.DataFrame()\n",
        "# hotel_sorted_idx 와 hotel_sim_values 매핑시킨 array임\n",
        "hotel_sim_df[similarity_cmp] = document_df.iloc[hotel_sorted_idx][similarity_cmp]\n",
        "hotel_sim_df['similarity'] = hotel_sim_values\n",
        "\n",
        "plt.figure(figsize=(15,10))\n",
        "sns.barplot(data=hotel_sim_df, x=similarity_cmp, y='similarity')\n",
        "plt.title(comparison_doc)"
      ],
      "execution_count": null,
      "outputs": [
        {
          "output_type": "stream",
          "name": "stdout",
          "text": [
            "Int64Index([ 7001,  1827, 13278,  1710,  2242,  2199,  1973,  1948,  1708,\n",
            "             2494,\n",
            "            ...\n",
            "             6301, 13076, 10420,  7875, 11525,  2101,  7284,  6116,  4003,\n",
            "             9235],\n",
            "           dtype='int64', length=705)\n",
            "[1.         0.99104043 0.95139089 0.95139089 0.95139089 0.95139089\n",
            " 0.95139089 0.95139089 0.95139089 0.95139089 0.95139089 0.95139089\n",
            " 0.95139089 0.95139089 0.95139089 0.95139089 0.95139089 0.95139089\n",
            " 0.95139089 0.95139089 0.95139089 0.95139089 0.95139089 0.95139089\n",
            " 0.95139089 0.95139089 0.95139089 0.95139089 0.95139089 0.95139089\n",
            " 0.95139089 0.95139089 0.95139089 0.95139089 0.95139089 0.95139089\n",
            " 0.95139089 0.95139089 0.95139089 0.95139089 0.95139089 0.95139089\n",
            " 0.95139089 0.90787319 0.90787319 0.90787319 0.90787319 0.90787319\n",
            " 0.90787319 0.90787319 0.90787319 0.90787319 0.90787319 0.90787319\n",
            " 0.90787319 0.90787319 0.90787319 0.90787319 0.90787319 0.90787319\n",
            " 0.90787319 0.90787319 0.90787319 0.90787319 0.90787319 0.90787319\n",
            " 0.90787319 0.90787319 0.90787319 0.90787319 0.90787319 0.90787319\n",
            " 0.90787319 0.90787319 0.90787319 0.90787319 0.90787319 0.90787319\n",
            " 0.90787319 0.90787319 0.90787319 0.90787319 0.90787319 0.90787319\n",
            " 0.90787319 0.90787319 0.90787319 0.90787319 0.90787319 0.90787319\n",
            " 0.90787319 0.90787319 0.90787319 0.90787319 0.90787319 0.90787319\n",
            " 0.90787319 0.90787319 0.90787319 0.90787319 0.90787319 0.90787319\n",
            " 0.90787319 0.90787319 0.90787319 0.90787319 0.90787319 0.90787319\n",
            " 0.90787319 0.90787319 0.90787319 0.90787319 0.90787319 0.90787319\n",
            " 0.90787319 0.90787319 0.90787319 0.90787319 0.90787319 0.90787319\n",
            " 0.90787319 0.90787319 0.90787319 0.90787319 0.90787319 0.90787319\n",
            " 0.90787319 0.90787319 0.90787319 0.90787319 0.90787319 0.90787319\n",
            " 0.90787319 0.90787319 0.90787319 0.90787319 0.90787319 0.90787319\n",
            " 0.90787319 0.90787319 0.90787319 0.90787319 0.90787319 0.90787319\n",
            " 0.90787319 0.90787319 0.90787319 0.90787319 0.90787319 0.90787319\n",
            " 0.90787319 0.90787319 0.90787319 0.90787319 0.90787319 0.90787319\n",
            " 0.90787319 0.90787319 0.90787319 0.90787319 0.90787319 0.90787319\n",
            " 0.90787319 0.90787319 0.90787319 0.90787319 0.90787319 0.90787319\n",
            " 0.90787319 0.90787319 0.90787319 0.90787319 0.90787319 0.90787319\n",
            " 0.90787319 0.90787319 0.90787319 0.90787319 0.90787319 0.90787319\n",
            " 0.90787319 0.90787319 0.90787319 0.90787319 0.90787319 0.90787319\n",
            " 0.90787319 0.90787319 0.90787319 0.90787319 0.90787319 0.90787319\n",
            " 0.90787319 0.90787319 0.90787319 0.90787319 0.90787319 0.90787319\n",
            " 0.90787319 0.90787319 0.90787319 0.90787319 0.90787319 0.90787319\n",
            " 0.90787319 0.90787319 0.90787319 0.90787319 0.90787319 0.90787319\n",
            " 0.90787319 0.90787319 0.90787319 0.90787319 0.90787319 0.90787319\n",
            " 0.90787319 0.90787319 0.90787319 0.90787319 0.90787319 0.90787319\n",
            " 0.90787319 0.90787319 0.90787319 0.90787319 0.90787319 0.90787319\n",
            " 0.90787319 0.90787319 0.90787319 0.90787319 0.90787319 0.90787319\n",
            " 0.90787319 0.90787319 0.90787319 0.90787319 0.90787319 0.90787319\n",
            " 0.90787319 0.90787319 0.90787319 0.90787319 0.90787319 0.90787319\n",
            " 0.90787319 0.90787319 0.90787319 0.90787319 0.90787319 0.90787319\n",
            " 0.90787319 0.90787319 0.90787319 0.90787319 0.90787319 0.90787319\n",
            " 0.90787319 0.90787319 0.90787319 0.90787319 0.90787319 0.90787319\n",
            " 0.90787319 0.90787319 0.90787319 0.90787319 0.90787319 0.90787319\n",
            " 0.90787319 0.90787319 0.90787319 0.90787319 0.90787319 0.90787319\n",
            " 0.90787319 0.90787319 0.90787319 0.90787319 0.90787319 0.90787319\n",
            " 0.90787319 0.90787319 0.90787319 0.90787319 0.90787319 0.90787319\n",
            " 0.90787319 0.90787319 0.90787319 0.90787319 0.90787319 0.90787319\n",
            " 0.90787319 0.90787319 0.90787319 0.90787319 0.90787319 0.90787319\n",
            " 0.90787319 0.90787319 0.90787319 0.90787319 0.90787319 0.90787319\n",
            " 0.90787319 0.90787319 0.90787319 0.90787319 0.90787319 0.90787319\n",
            " 0.90787319 0.90787319 0.90787319 0.90787319 0.90787319 0.90787319\n",
            " 0.90787319 0.90787319 0.90787319 0.90787319 0.90787319 0.90787319\n",
            " 0.90787319 0.90787319 0.90787319 0.90787319 0.90787319 0.90787319\n",
            " 0.90787319 0.90787319 0.90787319 0.90787319 0.90787319 0.90787319\n",
            " 0.90787319 0.90787319 0.90787319 0.90787319 0.90787319 0.90787319\n",
            " 0.90787319 0.90787319 0.90787319 0.90787319 0.90787319 0.90787319\n",
            " 0.90787319 0.90787319 0.90787319 0.90787319 0.90787319 0.90787319\n",
            " 0.90787319 0.90787319 0.90787319 0.90787319 0.90787319 0.90787319\n",
            " 0.90787319 0.90787319 0.90787319 0.90787319 0.90787319 0.90787319\n",
            " 0.90787319 0.90787319 0.90787319 0.90787319 0.90787319 0.90787319\n",
            " 0.90787319 0.90787319 0.90787319 0.90787319 0.90787319 0.90787319\n",
            " 0.90787319 0.90787319 0.90787319 0.90787319 0.90787319 0.90787319\n",
            " 0.90787319 0.90787319 0.90787319 0.90787319 0.90787319 0.90787319\n",
            " 0.90787319 0.90787319 0.90787319 0.90787319 0.90787319 0.90787319\n",
            " 0.90787319 0.90787319 0.90787319 0.90787319 0.90787319 0.90787319\n",
            " 0.90787319 0.90787319 0.90787319 0.90787319 0.90787319 0.90787319\n",
            " 0.90787319 0.90787319 0.90787319 0.90787319 0.90787319 0.90787319\n",
            " 0.90787319 0.90787319 0.90787319 0.90787319 0.90787319 0.90787319\n",
            " 0.90787319 0.90787319 0.90787319 0.90787319 0.90787319 0.90787319\n",
            " 0.90787319 0.90787319 0.90787319 0.90787319 0.90787319 0.90787319\n",
            " 0.90787319 0.90787319 0.90787319 0.90787319 0.90787319 0.90787319\n",
            " 0.90787319 0.90787319 0.90787319 0.90787319 0.90787319 0.90787319\n",
            " 0.90787319 0.90787319 0.90787319 0.90787319 0.90787319 0.90787319\n",
            " 0.90787319 0.90787319 0.90787319 0.90787319 0.90787319 0.90787319\n",
            " 0.90787319 0.90787319 0.90787319 0.90787319 0.90787319 0.90787319\n",
            " 0.90787319 0.90787319 0.89513058 0.89092833 0.864731   0.864731\n",
            " 0.864731   0.864731   0.86295296 0.86107747 0.86107747 0.84292692\n",
            " 0.83257212 0.83257212 0.82126783 0.81874058 0.81193729 0.80878501\n",
            " 0.80878501 0.80491827 0.80228766 0.80038151 0.79466374 0.79466374\n",
            " 0.79320517 0.79320517 0.79320517 0.79320517 0.79320517 0.79320517\n",
            " 0.79320517 0.78030312 0.7680367  0.76481577 0.76481577 0.76481577\n",
            " 0.76481577 0.76481577 0.76481577 0.76481577 0.76481577 0.76481577\n",
            " 0.76481577 0.76481577 0.76481577 0.76481577 0.76481577 0.76481577\n",
            " 0.76481577 0.76481577 0.76481577 0.76481577 0.76481577 0.76481577\n",
            " 0.76481577 0.76481577 0.76481577 0.76481577 0.76481577 0.76481577\n",
            " 0.76481577 0.76481577 0.76481577 0.76481577 0.76481577 0.76481577\n",
            " 0.76481577 0.76481577 0.76481577 0.76481577 0.76481577 0.76481577\n",
            " 0.76481577 0.76481577 0.76481577 0.76481577 0.76481577 0.76481577\n",
            " 0.76481577 0.76481577 0.76481577 0.76481577 0.76481577 0.76481577\n",
            " 0.76481577 0.76481577 0.76481577 0.76481577 0.76481577 0.76481577\n",
            " 0.76481577 0.76481577 0.76481577 0.76481577 0.76481577 0.76481577\n",
            " 0.76481577 0.76481577 0.76481577 0.76481577 0.76481577 0.76481577\n",
            " 0.76481577 0.76481577 0.76481577 0.76481577 0.76481577 0.76481577\n",
            " 0.76481577 0.76481577 0.76139543 0.76107384 0.75506746 0.75389498\n",
            " 0.7473522  0.74269091 0.74269091 0.7414998  0.73509184 0.73023792\n",
            " 0.72441446 0.71849884 0.71848666 0.71734391 0.71734391 0.71734391\n",
            " 0.71734391 0.71734391 0.71258699 0.70028885 0.69751259 0.69632434\n",
            " 0.69602777 0.69393999 0.69393999 0.69312812 0.69235819 0.69059125\n",
            " 0.68767615 0.68394376 0.68394376 0.67919694 0.65261111 0.65255166\n",
            " 0.65255166 0.65255166 0.65255166 0.64391437 0.6428152  0.64269622\n",
            " 0.64107161 0.63996119 0.63633628 0.63561369 0.63561369 0.63561369\n",
            " 0.63561369 0.63561369 0.63561369 0.63561369 0.63561369 0.63561369\n",
            " 0.62696133 0.60920407 0.60920407 0.60920407 0.60920407 0.60920407\n",
            " 0.60920407 0.60920407 0.60920407 0.60920407 0.60920407 0.60920407\n",
            " 0.60920407 0.60920407 0.60920407 0.60920407 0.60920407 0.60920407\n",
            " 0.60920407 0.60920407 0.60789389 0.59398612 0.59289943 0.59289943\n",
            " 0.59289943 0.58622725 0.58524969 0.58524969 0.58524969 0.58524969\n",
            " 0.58524969 0.58524969 0.58524969 0.58524969 0.58524969 0.58524969\n",
            " 0.58524969 0.58524969 0.58524969 0.58524969 0.58524969 0.58524969\n",
            " 0.58195755 0.58010866 0.58010866 0.58010866 0.58010866 0.57800351\n",
            " 0.56238983 0.55625327 0.55625327 0.55625327 0.55625327 0.55625327\n",
            " 0.55625327 0.54921675 0.54921675 0.54921675 0.54921675 0.54921675\n",
            " 0.54921675 0.54921675 0.54921675 0.54423125 0.54423125 0.54423125\n",
            " 0.54423125 0.54423125 0.54423125 0.54106398 0.54106398 0.54106398\n",
            " 0.54106398 0.51221198 0.50816067 0.47852812 0.47741873 0.46741267\n",
            " 0.46062384 0.45188725 0.44686966]\n",
            "\n",
            "길이 비교 705 705\n",
            "\n"
          ]
        },
        {
          "output_type": "execute_result",
          "data": {
            "text/plain": [
              "Text(0.5, 1.0, '2')"
            ]
          },
          "metadata": {},
          "execution_count": 35
        },
        {
          "output_type": "display_data",
          "data": {
            "image/png": "[encoded data removed]",
            "text/plain": [
              "<Figure size 1080x720 with 1 Axes>"
            ]
          },
          "metadata": {
            "needs_background": "light"
          }
        }
      ]
    },
    {
      "cell_type": "code",
      "metadata": {
        "colab": {
          "base_uri": "https://localhost:8080/",
          "height": 295
        },
        "id": "rP4ntYxRMESJ",
        "outputId": "f51af781-b879-4e6f-bc96-5b88c5fa89be"
      },
      "source": [
        "def elbow(data, length):\n",
        "    sse = [] # sum of squre error 오차제곱합\n",
        "    for i in range(1, length):\n",
        "        kmeans = KMeans(n_clusters=i)\n",
        "        kmeans.fit(data)\n",
        "        # SSE 값 저장\n",
        "        sse.append(kmeans.inertia_)\n",
        "    plt.plot(range(1, length), sse, 'bo-')\n",
        "    plt.title(\"elbow method\")\n",
        "    plt.xlabel(\"number of clusters\")\n",
        "    plt.ylabel(\"SSE\")\n",
        "    plt.show()\n",
        "elbow(ftr_vect, 40)"
      ],
      "execution_count": null,
      "outputs": [
        {
          "output_type": "display_data",
          "data": {
            "image/png": "[encoded data removed]",
            "text/plain": [
              "<Figure size 432x288 with 1 Axes>"
            ]
          },
          "metadata": {
            "needs_background": "light"
          }
        }
      ]
    }
  ]
}