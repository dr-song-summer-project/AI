{
  "nbformat": 4,
  "nbformat_minor": 0,
  "metadata": {
    "colab": {
      "name": "K Means - NLP - k 찾기.ipynb",
      "provenance": [],
      "collapsed_sections": [],
      "authorship_tag": "ABX9TyNi3hiobh+8ZM9Z41XblxKO",
      "include_colab_link": true
    },
    "kernelspec": {
      "name": "python3",
      "display_name": "Python 3"
    },
    "language_info": {
      "name": "python"
    }
  },
  "cells": [
    {
      "cell_type": "markdown",
      "metadata": {
        "id": "view-in-github",
        "colab_type": "text"
      },
      "source": [
        "<a href=\"https://colab.research.google.com/github/dr-song-summer-project/AI/blob/main/Clustering/K_Means_NLP_k_%EC%B0%BE%EA%B8%B0.ipynb\" target=\"_parent\"><img src=\"https://colab.research.google.com/assets/colab-badge.svg\" alt=\"Open In Colab\"/></a>"
      ]
    },
    {
      "cell_type": "markdown",
      "metadata": {
        "id": "mkV61Je6Ta6b"
      },
      "source": [
        "**https://techblog-history-younghunjo1.tistory.com/114**"
      ]
    },
    {
      "cell_type": "code",
      "metadata": {
        "colab": {
          "base_uri": "https://localhost:8080/"
        },
        "id": "iOPUxPYTP5yf",
        "outputId": "cda25f3d-ba36-4f3d-c60b-3bb48bd78995"
      },
      "source": [
        "from google.colab import drive\n",
        "drive.mount('/content/drive')"
      ],
      "execution_count": null,
      "outputs": [
        {
          "output_type": "stream",
          "name": "stdout",
          "text": [
            "Mounted at /content/drive\n"
          ]
        }
      ]
    },
    {
      "cell_type": "code",
      "metadata": {
        "id": "CEWp_02gTE1L"
      },
      "source": [
        "clustering_num = 15\n",
        "similarity_cmp = 'reviewRate'"
      ],
      "execution_count": null,
      "outputs": []
    },
    {
      "cell_type": "code",
      "metadata": {
        "colab": {
          "base_uri": "https://localhost:8080/",
          "height": 205
        },
        "id": "eE4kHmgBP6Lu",
        "outputId": "97cb53df-f8e4-42e1-db8f-9db7d427ed7d"
      },
      "source": [
        "# 학습용 데이터셋 불러오기\n",
        "import pandas as pd\n",
        "document_df = pd.read_excel('/content/drive/My Drive/닥터송 여름 프로젝트/4. 대-스타 해결 2/DRSONG_AI_Project/AI/전처리/data/unlabeled_data_prepro_keyword.xlsx')\n",
        "# document_df.head()\n",
        "\n",
        "document_df.drop(['Unnamed: 0', 'encodedSenderId', 'encodedTargetId', 'DateTime'], axis=1, inplace=True)\n",
        "document_df.head()"
      ],
      "execution_count": null,
      "outputs": [
        {
          "output_type": "execute_result",
          "data": {
            "text/html": [
              "<div>\n",
              "<style scoped>\n",
              "    .dataframe tbody tr th:only-of-type {\n",
              "        vertical-align: middle;\n",
              "    }\n",
              "\n",
              "    .dataframe tbody tr th {\n",
              "        vertical-align: top;\n",
              "    }\n",
              "\n",
              "    .dataframe thead th {\n",
              "        text-align: right;\n",
              "    }\n",
              "</style>\n",
              "<table border=\"1\" class=\"dataframe\">\n",
              "  <thead>\n",
              "    <tr style=\"text-align: right;\">\n",
              "      <th></th>\n",
              "      <th>reviewIndex</th>\n",
              "      <th>reviewContent</th>\n",
              "      <th>reviewRate</th>\n",
              "      <th>reviewType</th>\n",
              "    </tr>\n",
              "  </thead>\n",
              "  <tbody>\n",
              "    <tr>\n",
              "      <th>0</th>\n",
              "      <td>0</td>\n",
              "      <td>시간 곧 다 일 불만족 신 부분 나름 조율 다른 조건 조율 과정 없이 바로 워킹맘 ...</td>\n",
              "      <td>1</td>\n",
              "      <td>recruitReview</td>\n",
              "    </tr>\n",
              "    <tr>\n",
              "      <th>1</th>\n",
              "      <td>1</td>\n",
              "      <td>자신감 아기 거 좋다 것 같다 파이팅</td>\n",
              "      <td>3</td>\n",
              "      <td>recruitReview</td>\n",
              "    </tr>\n",
              "    <tr>\n",
              "      <th>2</th>\n",
              "      <td>2</td>\n",
              "      <td>아이 의의 산 표현 확실하다 아이 터 좋아하다 어머님께 아쉽다</td>\n",
              "      <td>3</td>\n",
              "      <td>recruitReview</td>\n",
              "    </tr>\n",
              "    <tr>\n",
              "      <th>3</th>\n",
              "      <td>3</td>\n",
              "      <td>사정 있다 아쉽다 함께</td>\n",
              "      <td>3</td>\n",
              "      <td>recruitReview</td>\n",
              "    </tr>\n",
              "    <tr>\n",
              "      <th>4</th>\n",
              "      <td>4</td>\n",
              "      <td>전화 인터뷰 때 저희 집 오신 첫날 정기 좋다 사 전 말 이사 곳도 수 있다 이 동...</td>\n",
              "      <td>1</td>\n",
              "      <td>recruitReview</td>\n",
              "    </tr>\n",
              "  </tbody>\n",
              "</table>\n",
              "</div>"
            ],
            "text/plain": [
              "   reviewIndex  ...     reviewType\n",
              "0            0  ...  recruitReview\n",
              "1            1  ...  recruitReview\n",
              "2            2  ...  recruitReview\n",
              "3            3  ...  recruitReview\n",
              "4            4  ...  recruitReview\n",
              "\n",
              "[5 rows x 4 columns]"
            ]
          },
          "metadata": {},
          "execution_count": 86
        }
      ]
    },
    {
      "cell_type": "code",
      "metadata": {
        "colab": {
          "base_uri": "https://localhost:8080/"
        },
        "id": "yaED_YtuQbtG",
        "outputId": "7245f58c-ca15-4565-ee4a-6ecb90900a30"
      },
      "source": [
        "# 텍스트 단어들의 어근 원형을 추출하기 위해 함수 생성\n",
        "from sklearn.feature_extraction.text import TfidfVectorizer\n",
        "from nltk.stem import WordNetLemmatizer\n",
        "import nltk\n",
        "import string\n",
        "nltk.download('punkt')\n",
        "nltk.download('wordnet')\n",
        "# string.puncutaion에 문자열의 모든 구두점이 들어있음\n",
        "# 이를 활용해서 Tokenize시킬 때 구두점들을 제외하기 위한 것\n",
        "# ord('문자열') => 문자열의 ASCII코드를 반환해줌!\n",
        "# dict(key, value)형태로 모든 구두점의 각 ASCII코드를 key값으로 넣어주자!\n",
        "remove_punct_dict = dict((ord(punct), None) for punct in string.punctuation)\n",
        "lemmar = WordNetLemmatizer()\n",
        "\n",
        "# 토큰화한 각 단어들의 원형들을 리스트로 담아서 반환\n",
        "def LemTokens(tokens):\n",
        "    return [lemmar.lemmatize(token) for token in tokens]\n",
        "# 텍스트를 Input으로 넣어서 토큰화시키고 토큰화된 단어들의 원형들을 리스트로 담아 반환\n",
        "def LemNormalize(text):\n",
        "    # .translate인자에 구두점 dict넣어주어서 구두점 삭제해준 상태로 토큰화시키기!\n",
        "    return LemTokens(nltk.word_tokenize(text.lower().translate(remove_punct_dict)))\n",
        "\n",
        "# Tf-idf 벡터화시키면서 cusotmized해준 토큰화+어근추출 방식 tokenizer인자에 넣어주기\n",
        "# 벡터화시킬 Tf-idf 도구 옵션 추가해서 구축\n",
        "# 1,2gram적용, 빈도수 0.05이하, 0.85이상의 빈도수 단어들 제거\n",
        "tfidf_vect = TfidfVectorizer(tokenizer=LemNormalize,\n",
        "                            stop_words='english', ngram_range=(1,2),\n",
        "                            min_df=0.05, max_df=0.85)\n",
        "# fit_transform으로 위에서 구축한 도구로 텍스트 벡터화\n",
        "# ftr_vect = tfidf_vect.fit_transform(document_df['reviewContent'])\n",
        "ftr_vect = tfidf_vect.fit_transform(document_df['reviewContent'].values.astype('U'))\n",
        "print(ftr_vect.shape)"
      ],
      "execution_count": null,
      "outputs": [
        {
          "output_type": "stream",
          "name": "stdout",
          "text": [
            "[nltk_data] Downloading package punkt to /root/nltk_data...\n",
            "[nltk_data]   Package punkt is already up-to-date!\n",
            "[nltk_data] Downloading package wordnet to /root/nltk_data...\n",
            "[nltk_data]   Package wordnet is already up-to-date!\n"
          ]
        },
        {
          "output_type": "stream",
          "name": "stderr",
          "text": [
            "/usr/local/lib/python3.7/dist-packages/sklearn/feature_extraction/text.py:385: UserWarning: Your stop_words may be inconsistent with your preprocessing. Tokenizing the stop words generated tokens ['ha', 'le', 'u', 'wa'] not in stop_words.\n",
            "  'stop_words.' % sorted(inconsistent))\n"
          ]
        },
        {
          "output_type": "stream",
          "name": "stdout",
          "text": [
            "(13283, 39)\n"
          ]
        }
      ]
    },
    {
      "cell_type": "code",
      "metadata": {
        "colab": {
          "base_uri": "https://localhost:8080/"
        },
        "id": "hNAkX0qHQy91",
        "outputId": "5e50d6ac-de43-46d7-8a18-d02ec4a84144"
      },
      "source": [
        "# K-means로 clustering_num개 군집으로 문서 군집화시키기\n",
        "from sklearn.cluster import KMeans\n",
        "\n",
        "kmeans = KMeans(n_clusters=clustering_num, max_iter=10000, random_state=42)\n",
        "# 비지도 학습이니 feature로만 학습시키고 예측\n",
        "cluster_label = kmeans.fit_predict(ftr_vect)\n",
        "\n",
        "print(cluster_label)\n",
        "\n",
        "# 군집화한 레이블값들을 document_df 에 추가하기\n",
        "document_df['cluster_label'] = cluster_label\n",
        "print(document_df.sort_values(by=['cluster_label']))\n",
        "# document_df['reviewType'] = document_df['reviewType'].replace(['recruitReview', 'interviewReview', 'failureReview'],[0, 1, 2])"
      ],
      "execution_count": null,
      "outputs": [
        {
          "output_type": "stream",
          "name": "stdout",
          "text": [
            "[2 6 9 ... 5 3 8]\n",
            "       reviewIndex  ... cluster_label\n",
            "8097          8097  ...             0\n",
            "5017          5017  ...             0\n",
            "5021          5021  ...             0\n",
            "7085          7085  ...             0\n",
            "5037          5037  ...             0\n",
            "...            ...  ...           ...\n",
            "6277          6277  ...            14\n",
            "12115        12115  ...            14\n",
            "11445        11445  ...            14\n",
            "11444        11444  ...            14\n",
            "5691          5691  ...            14\n",
            "\n",
            "[13283 rows x 5 columns]\n"
          ]
        }
      ]
    },
    {
      "cell_type": "code",
      "metadata": {
        "id": "1iDwcCZcubg6"
      },
      "source": [
        "document_df.to_excel('clustering_result.xlsx', header=True, index=False)"
      ],
      "execution_count": null,
      "outputs": []
    },
    {
      "cell_type": "code",
      "metadata": {
        "colab": {
          "base_uri": "https://localhost:8080/",
          "height": 403
        },
        "id": "LTrXrDagT5pq",
        "outputId": "2d530a09-11cb-4b25-865b-9434e2153287"
      },
      "source": [
        "import matplotlib.pyplot as plt\n",
        "import seaborn as sb\n",
        "%matplotlib inline\n",
        "\n",
        "sb.lmplot(x='reviewIndex', y='reviewRate', data=document_df, height=5, fit_reg=False, scatter_kws={\"s\":50}, hue = 'cluster_label')\n",
        "\n",
        "plt.title('clustering result')"
      ],
      "execution_count": null,
      "outputs": [
        {
          "output_type": "execute_result",
          "data": {
            "text/plain": [
              "Text(0.5, 1.0, 'clustering result')"
            ]
          },
          "metadata": {},
          "execution_count": 91
        },
        {
          "output_type": "display_data",
          "data": {
            "image/png": "[encoded data removed]",
            "text/plain": [
              "<Figure size 431.375x360 with 1 Axes>"
            ]
          },
          "metadata": {
            "needs_background": "light"
          }
        }
      ]
    },
    {
      "cell_type": "code",
      "metadata": {
        "id": "Eg3RuKaORAS9",
        "colab": {
          "base_uri": "https://localhost:8080/"
        },
        "outputId": "d7c63b47-ba4c-4a0d-bcf7-a688d890fd8e"
      },
      "source": [
        "def get_cluster_details(cluster_model, cluster_data, feature_names,\n",
        "                       cluster_num, top_n_features=10):\n",
        "    cluster_details = {}\n",
        "    # 각 클러스터 레이블별 feature들의 center값들 내림차순으로 정렬 후의 인덱스를 반환\n",
        "    center_feature_idx = cluster_model.cluster_centers_.argsort()[:,::-1]\n",
        "    \n",
        "    # 개별 클러스터 레이블별로 \n",
        "    for cluster_num in range(cluster_num):\n",
        "        # 개별 클러스터별 정보를 담을 empty dict할당\n",
        "        cluster_details[cluster_num] = {}\n",
        "        cluster_details[cluster_num]['cluster'] = cluster_num\n",
        "        \n",
        "        # 각 feature별 center값들 정렬한 인덱스 중 상위 10개만 추출\n",
        "        top_ftr_idx = center_feature_idx[cluster_num, :top_n_features]\n",
        "        top_ftr = [feature_names[idx] for idx in top_ftr_idx]\n",
        "        # top_ftr_idx를 활용해서 상위 10개 feature들의 center값들 반환\n",
        "        # 반환하게 되면 array이기 떄문에 리스트로바꾸기\n",
        "        top_ftr_val = cluster_model.cluster_centers_[cluster_num, top_ftr_idx].tolist()\n",
        "        \n",
        "        # cluster_details 딕셔너리에다가 개별 군집 정보 넣어주기\n",
        "        cluster_details[cluster_num]['top_features'] = top_ftr\n",
        "        cluster_details[cluster_num]['top_featrues_value'] = top_ftr_val\n",
        "        # 해당 cluster_num으로 분류된 파일명(문서들) 넣어주기\n",
        "        filenames = cluster_data[cluster_data['cluster_label']==cluster_num][similarity_cmp]\n",
        "        # filenames가 df으로 반환되기 떄문에 값들만 출력해서 array->list로 변환\n",
        "        filenames = filenames.values.tolist()\n",
        "        cluster_details[cluster_num]['filenames'] = filenames\n",
        "    \n",
        "    return cluster_details\n",
        "\n",
        "def print_cluster_details(cluster_details):\n",
        "    for cluster_num, cluster_detail in cluster_details.items():\n",
        "        print(f\"#####Cluster Num: {cluster_num}\")\n",
        "        print()\n",
        "        print(\"상위 10개 feature단어들:\\n\", cluster_detail['top_features'])\n",
        "        print()\n",
        "        print(f\"Cluster {cluster_num}으로 분류된 문서들:\\n{cluster_detail['filenames'][:10]}\")\n",
        "        print('-'*20)\n",
        "\n",
        "feature_names = tfidf_vect.get_feature_names()\n",
        "cluster_details = get_cluster_details(cluster_model=kmeans,\n",
        "                                     cluster_data=document_df,\n",
        "                                     feature_names=feature_names,\n",
        "                                     cluster_num=clustering_num,\n",
        "                                     top_n_features=10)\n",
        "print_cluster_details(cluster_details)"
      ],
      "execution_count": null,
      "outputs": [
        {
          "output_type": "stream",
          "name": "stdout",
          "text": [
            "#####Cluster Num: 0\n",
            "\n",
            "상위 10개 feature단어들:\n",
            " ['전화', '인터뷰', '문자', '연락', '친절하다', '채용', '후', '안', '시간', '없다']\n",
            "\n",
            "Cluster 0으로 분류된 문서들:\n",
            "[1, 1, 1, 1, 1, 1, 1, 1, 3, 3]\n",
            "--------------------\n",
            "#####Cluster Num: 1\n",
            "\n",
            "상위 10개 feature단어들:\n",
            " ['기회', '다음', '다음 기회', '연락', '좋다', '아쉽다', '채용', '함께', '시간', '있다']\n",
            "\n",
            "Cluster 1으로 분류된 문서들:\n",
            "[3, 3, 1, 1, 3, 3, 3, 3, 3, 3]\n",
            "--------------------\n",
            "#####Cluster Num: 2\n",
            "\n",
            "상위 10개 feature단어들:\n",
            " ['시간', '약속', '좋다', '연락', '친절하다', '있다', '문자', '제', '터', '함께']\n",
            "\n",
            "Cluster 2으로 분류된 문서들:\n",
            "[1, 1, 2, 2, 3, 3, 1, 2, 1, 1]\n",
            "--------------------\n",
            "#####Cluster Num: 3\n",
            "\n",
            "상위 10개 feature단어들:\n",
            " ['인연', '좋다', '아쉽다', '다음', '연락', '시간', '터', '아이', '안', '다른']\n",
            "\n",
            "Cluster 3으로 분류된 문서들:\n",
            "[3, 3, 3, 3, 3, 3, 3, 1, 3, 1]\n",
            "--------------------\n",
            "#####Cluster Num: 4\n",
            "\n",
            "상위 10개 feature단어들:\n",
            " ['있다', '것', '인터뷰', '같다', '터', '친절하다', '제', '것 같다', '문자', '좋다']\n",
            "\n",
            "Cluster 4으로 분류된 문서들:\n",
            "[1, 1, 1, 1, 3, 1, 3, 3, 3, 1]\n",
            "--------------------\n",
            "#####Cluster Num: 5\n",
            "\n",
            "상위 10개 feature단어들:\n",
            " ['너무', '아이', '좋다', '친절하다', '시간', '아쉽다', '있다', '제', '같다', '것']\n",
            "\n",
            "Cluster 5으로 분류된 문서들:\n",
            "[1, 1, 1, 1, 3, 3, 3, 2, 3, 1]\n",
            "--------------------\n",
            "#####Cluster Num: 6\n",
            "\n",
            "상위 10개 feature단어들:\n",
            " ['아기', '너무', '있다', '좋다', '시간', '것', '같다', '친절하다', '수', '아쉽다']\n",
            "\n",
            "Cluster 6으로 분류된 문서들:\n",
            "[3, 3, 3, 3, 1, 3, 3, 3, 3, 3]\n",
            "--------------------\n",
            "#####Cluster Num: 7\n",
            "\n",
            "상위 10개 feature단어들:\n",
            " ['분', '좋다 분', '좋다', '같다', '터', '연락', '아쉽다', '시간', '다른', '채용']\n",
            "\n",
            "Cluster 7으로 분류된 문서들:\n",
            "[3, 3, 3, 1, 3, 3, 3, 3, 3, 1]\n",
            "--------------------\n",
            "#####Cluster Num: 8\n",
            "\n",
            "상위 10개 feature단어들:\n",
            " ['안', '연락', '시간', '아쉽다', '채용', '좋다', '수락', '아이', '친절하다', '터']\n",
            "\n",
            "Cluster 8으로 분류된 문서들:\n",
            "[3, 3, 2, 2, 3, 3, 3, 1, 1, 2]\n",
            "--------------------\n",
            "#####Cluster Num: 9\n",
            "\n",
            "상위 10개 feature단어들:\n",
            " ['아이', '시간', '있다', '좋다', '친절하다', '약속', '수', '함께', '없다', '너무']\n",
            "\n",
            "Cluster 9으로 분류된 문서들:\n",
            "[3, 3, 1, 3, 3, 2, 2, 1, 1, 2]\n",
            "--------------------\n",
            "#####Cluster Num: 10\n",
            "\n",
            "상위 10개 feature단어들:\n",
            " ['없다', '연락 없다', '연락', '수락', '수락 연락', '후', '좋다', '신청', '터', '아쉽다']\n",
            "\n",
            "Cluster 10으로 분류된 문서들:\n",
            "[1, 1, 1, 2, 1, 1, 1, 1, 1, 1]\n",
            "--------------------\n",
            "#####Cluster Num: 11\n",
            "\n",
            "상위 10개 feature단어들:\n",
            " ['아쉽다', '연락', '시간', '좋다', '함께', '수락', '터', '다음', '수락 연락', '못']\n",
            "\n",
            "Cluster 11으로 분류된 문서들:\n",
            "[3, 3, 1, 3, 3, 1, 3, 1, 1, 3]\n",
            "--------------------\n",
            "#####Cluster Num: 12\n",
            "\n",
            "상위 10개 feature단어들:\n",
            " ['채용', '시간', '아쉽다', '다른', '친절하다', '연락', '분', '좋다', '터', '아이']\n",
            "\n",
            "Cluster 12으로 분류된 문서들:\n",
            "[3, 2, 3, 1, 1, 2, 1, 3, 3, 3]\n",
            "--------------------\n",
            "#####Cluster Num: 13\n",
            "\n",
            "상위 10개 feature단어들:\n",
            " ['오지', '연락 오지', '연락', '수락', '수락 연락', '아쉽다', '좋다', '후', '있다', '터']\n",
            "\n",
            "Cluster 13으로 분류된 문서들:\n",
            "[2, 1, 1, 1, 1, 2, 3, 1, 2, 2]\n",
            "--------------------\n",
            "#####Cluster Num: 14\n",
            "\n",
            "상위 10개 feature단어들:\n",
            " ['연락', '못', '수락', '있다', '제', '다른', '좋다', '후', '터', '문자']\n",
            "\n",
            "Cluster 14으로 분류된 문서들:\n",
            "[3, 3, 3, 1, 3, 2, 3, 3, 1, 1]\n",
            "--------------------\n"
          ]
        }
      ]
    },
    {
      "cell_type": "code",
      "metadata": {
        "id": "eUhjPvn-SuI0",
        "colab": {
          "base_uri": "https://localhost:8080/"
        },
        "outputId": "a6fd5a15-6d7e-4d68-db07-3503901a8938"
      },
      "source": [
        "# 클러스터링된 문서들 중에서 특정 문서를 하나 선택한 후 비슷한 문서 추출\n",
        "from sklearn.metrics.pairwise import cosine_similarity\n",
        "random_int = 1\n",
        "hotel_idx = document_df[document_df['cluster_label']==6].index\n",
        "print(\"호텔 카테고리로 클러스터링된 문서들의 인덱스:\\n\",hotel_idx)\n",
        "print(\"내용 : \", document_df[document_df['reviewIndex']==hotel_idx[random_int]].reviewContent)\n",
        "# 호텔 카테고리로 클러스터링 된 문서들의 인덱스 중 하나 선택해 비교 기준으로 삼을 문서 선정\n",
        "comparison_doc = document_df.iloc[hotel_idx[random_int]][similarity_cmp]\n",
        "print(\"##유사도 비교 기준 문서 이름:\",comparison_doc,'##')\n",
        "print()\n",
        "\n",
        "# 위에서 추출한 호텔 카테고리로 클러스터링된 문서들의 인덱스 중 0번인덱스(비교기준문서)제외한\n",
        "# 다른 문서들과의 유사도 측정\n",
        "similarity = cosine_similarity(ftr_vect[hotel_idx[random_int]], ftr_vect[hotel_idx])\n",
        "# print(similarity)"
      ],
      "execution_count": null,
      "outputs": [
        {
          "output_type": "stream",
          "name": "stdout",
          "text": [
            "호텔 카테고리로 클러스터링된 문서들의 인덱스:\n",
            " Int64Index([    1,     8,    18,    24,    28,    30,    43,    59,    63,\n",
            "               74,\n",
            "            ...\n",
            "            12808, 12822, 12889, 12945, 13038, 13089, 13123, 13207, 13223,\n",
            "            13273],\n",
            "           dtype='int64', length=667)\n",
            "내용 :  8    몸 빨리 낫 바레 요 좀 아기 게 서툴다 최선 다\n",
            "Name: reviewContent, dtype: object\n",
            "##유사도 비교 기준 문서 이름: 3 ##\n",
            "\n"
          ]
        }
      ]
    },
    {
      "cell_type": "code",
      "metadata": {
        "id": "fQepZ0a1SyET"
      },
      "source": [
        "# 비교기준 문서와 다른 문서들간의 유사도 살펴보기\n",
        "import seaborn as sns\n",
        "import numpy as np\n",
        "import matplotlib.pyplot as plt\n",
        "# array 내림차순으로 정렬한 후 인덱스 반환 [:,::-1] 모든행에 대해서 열을 내림차순으로!\n",
        "sorted_idx = similarity.argsort()[:,::-1]\n",
        "# 비교문서 당사자는 제외한 인덱스 추출\n",
        "sorted_idx = sorted_idx[:, 1:]\n",
        "\n",
        "# 유사도가 큰 순으로 hotel_idx(label=1인 즉, 호텔과관련된 내용의 문서이름들의 index들)에서 재 정렬 \n",
        "# index로 넣으려면 1차원으로 reshape해주기!\n",
        "hotel_sorted_idx = hotel_idx[sorted_idx.reshape(-1,)]\n",
        "# 유사도 행렬값들을 유사도가 큰 순으로 재정렬(비교 문서 당사자는 제외)\n",
        "hotel_sim_values = np.sort(similarity.reshape(-1,))[::-1]\n",
        "hotel_sim_values = hotel_sim_values[1:]\n",
        "# 이렇게 되면 비교문서와 가장 유사한 순으로 '해당문서의index-유사도값' 으로 동일한 위치가 매핑된 두 개의 array!\n",
        "# 그래서 그대로 데이터프레임의 각 칼럼으로 넣어주기\n",
        "print(hotel_sorted_idx)\n",
        "print(hotel_sim_values)\n",
        "print()\n",
        "print(\"길이 비교\", len(hotel_sorted_idx), len(hotel_sim_values))\n",
        "print()\n",
        "# 빈 데이터프레임 생성\n",
        "hotel_sim_df = pd.DataFrame()\n",
        "# hotel_sorted_idx 와 hotel_sim_values 매핑시킨 array임\n",
        "hotel_sim_df[similarity_cmp] = document_df.iloc[hotel_sorted_idx][similarity_cmp]\n",
        "hotel_sim_df['similarity'] = hotel_sim_values\n",
        "\n",
        "plt.figure(figsize=(15,10))\n",
        "sns.barplot(data=hotel_sim_df, x=similarity_cmp, y='similarity')\n",
        "plt.title(comparison_doc)"
      ],
      "execution_count": null,
      "outputs": []
    },
    {
      "cell_type": "code",
      "metadata": {
        "id": "De26g1EvjB4u"
      },
      "source": [
        "import numpy as np\n",
        "from sklearn.model_selection import train_test_split\n",
        "\n",
        "X_train, X_valid, Y_train, Y_valid = train_test_split(ftr_vect, document_df['reviewRate'], test_size=0.2, random_state=42)\n",
        "\n",
        "print(X_train)"
      ],
      "execution_count": null,
      "outputs": []
    },
    {
      "cell_type": "code",
      "metadata": {
        "colab": {
          "base_uri": "https://localhost:8080/"
        },
        "id": "rP4ntYxRMESJ",
        "outputId": "8abb11e1-0eb7-40ba-866b-8bd0bca91ce6"
      },
      "source": [
        "def elbow(X_train, range_, random_state):\n",
        "  k_range = range(2, range_)\n",
        "  sse = [] # sum of squre error 오차제곱합\n",
        "  for i in k_range:\n",
        "      kmeans = KMeans(n_clusters=i, random_state=random_state)\n",
        "      kmeans.fit(X_train)\n",
        "      inertia = kmeans.inertia_\n",
        "      print('k :', i, 'inertia :', inertia)\n",
        "      # SSE 값 저장\n",
        "      sse.append(inertia)      \n",
        "  sse = np.array(sse)\n",
        "  return sse\n",
        "inertia_arr = elbow(X_train, 30, 42)"
      ],
      "execution_count": null,
      "outputs": [
        {
          "output_type": "stream",
          "name": "stdout",
          "text": [
            "k : 2 inertia : 8462.448331141264\n",
            "k : 3 inertia : 8048.433578811091\n",
            "k : 4 inertia : 7702.86836027657\n",
            "k : 5 inertia : 7429.831699920309\n",
            "k : 6 inertia : 7099.6876468155\n",
            "k : 7 inertia : 6897.376083597863\n",
            "k : 8 inertia : 6669.401004775825\n",
            "k : 9 inertia : 6517.862340420905\n",
            "k : 10 inertia : 6344.865181577912\n",
            "k : 11 inertia : 6198.985565975566\n",
            "k : 12 inertia : 6001.121804476931\n",
            "k : 13 inertia : 5847.4316592326595\n",
            "k : 14 inertia : 5717.584215590982\n",
            "k : 15 inertia : 5591.100121858547\n",
            "k : 16 inertia : 5429.751778664764\n",
            "k : 17 inertia : 5325.504732577793\n",
            "k : 18 inertia : 5154.087725199835\n",
            "k : 19 inertia : 5084.242018438057\n",
            "k : 20 inertia : 4951.843192294819\n",
            "k : 21 inertia : 4881.398290977996\n",
            "k : 22 inertia : 4780.7257216430335\n",
            "k : 23 inertia : 4749.678841699431\n",
            "k : 24 inertia : 4617.130671693085\n",
            "k : 25 inertia : 4594.076584494589\n",
            "k : 26 inertia : 4532.902961444833\n",
            "k : 27 inertia : 4446.4792013123315\n",
            "k : 28 inertia : 4408.2097507226235\n",
            "k : 29 inertia : 4346.648676613503\n"
          ]
        }
      ]
    },
    {
      "cell_type": "code",
      "metadata": {
        "colab": {
          "base_uri": "https://localhost:8080/",
          "height": 295
        },
        "id": "22fyt_wgsONm",
        "outputId": "3b6c3dce-ab6e-46b8-f22b-386ca8e78e62"
      },
      "source": [
        "plt.plot(range(2, 30), inertia_arr)\n",
        "plt.vlines(23, ymin=inertia_arr.min()*0.9999, ymax=inertia_arr.max()*1.0003, linestyle='--', colors = 'g')\n",
        "plt.vlines(24, ymin=inertia_arr.min()*0.9999, ymax=inertia_arr.max()*1.0003, linestyle='--', colors = 'r')\n",
        "\n",
        "plt.title(\"elbow method\")\n",
        "plt.xlabel(\"number of clusters\")\n",
        "plt.ylabel(\"Inertia\")\n",
        "plt.show()"
      ],
      "execution_count": null,
      "outputs": [
        {
          "output_type": "display_data",
          "data": {
            "image/png": "[encoded data removed]",
            "text/plain": [
              "<Figure size 432x288 with 1 Axes>"
            ]
          },
          "metadata": {
            "needs_background": "light"
          }
        }
      ]
    },
    {
      "cell_type": "code",
      "metadata": {
        "id": "Hp89jdhGf0Rh"
      },
      "source": [
        "# 손실 함수\n",
        "from sklearn.ensemble import RandomForestRegressor\n",
        "from sklearn.metrics import r2_score\n",
        "from sklearn.metrics import mean_squared_log_error\n",
        "\n",
        "def RMSLE(X_train, X_Valid, Y_train, Y_valid):\n",
        "  k_rmsle_list=[]\n",
        "\n",
        "  for k in range(2, 50):\n",
        "    kmeans = KMeans(n_clusters = k, random_state=42)  #중심 초기화를 위한 난수 생성을 결정합니다. int를 사용하여 랜덤성을 결정론적으로 만듭니다. 용어집을 참조하십시오.\n",
        "    kmeans.fit(X_train)\n",
        "\n",
        "    clusters_train = kmeans.predict(X_train)\n",
        "    clusters_train_df = pd.DataFrame(clusters_train, columns=['clusters'])\n",
        "    X_train_k = pd.concat([X_train, clusters_train_df], axis=1)\n",
        "    \n",
        "    clusters_valid = kmeans.predict(X_Valid)\n",
        "    clusters_valid_df = pd.DataFrame(clusters_valid, columns=['clusters'])\n",
        "    X_valid_k = pd.concat([X_valid, clusters_valid_df], axis=1)\n",
        "\n",
        "    y_log_train = np.log(Y_train)\n",
        "    y_log_valid = np.log(Y_valid)\n",
        "\n",
        "    rf = RandomForestRegressor(random_state = 42)\n",
        "    rf.fit(X_train_k, y_log_train)\n",
        "    y_pred = rf.predict(X_valid_k)\n",
        "\n",
        "    print('k :', k)\n",
        "    print('R2 : {:.3f}'.format(r2_score(y_log_valid, y_pred)))\n",
        "    print('RF RMSLE : {:.6f}\\n'.format(np.sqrt(mean_squared_log_error(y_log_valid, y_pred))))\n",
        "    rmsle = np.sqrt(mean_squared_log_error(y_log_valid, y_pred))\n",
        "    k_rmsle = [k, rmsle]\n",
        "    k_rmsle_list.append(k_rmsle)\n",
        "\n",
        "  k_df = pd.DataFrame(k_rmsle_list, columns=['k', 'RMSLE'])\n",
        "\n",
        "RMSLE(X_train, X_valid, Y_train, Y_valid)"
      ],
      "execution_count": null,
      "outputs": []
    },
    {
      "cell_type": "code",
      "metadata": {
        "colab": {
          "base_uri": "https://localhost:8080/"
        },
        "id": "HaJbbVoxnkly",
        "outputId": "1b7a1e64-5471-4adb-af96-2c4304719ecc"
      },
      "source": [
        "from sklearn.metrics import silhouette_score\n",
        "def silhouette_(random_state, X_train):\n",
        "  k_range = range(2, 30)\n",
        "  best_n = -1\n",
        "  best_silhouette_score = -1\n",
        "\n",
        "  for k in k_range:\n",
        "    kmeans = KMeans(n_clusters = k, random_state=random_state)\n",
        "    kmeans.fit(X_train)\n",
        "    clusters = kmeans.predict(X_train)\n",
        "\n",
        "    score = silhouette_score(X_train, clusters)\n",
        "    print('k :', k, 'score :', score)\n",
        "\n",
        "    if score > best_silhouette_score :\n",
        "      best_n = k\n",
        "      best_silhouette_score = score\n",
        "\n",
        "  print('best n : ', best_n, 'best score : ', best_silhouette_score)\n",
        "\n",
        "silhouette_(42, ftr_vect)"
      ],
      "execution_count": null,
      "outputs": [
        {
          "output_type": "stream",
          "name": "stdout",
          "text": [
            "k : 2 score : 0.0720637900974417\n",
            "k : 3 score : 0.07929023497575372\n",
            "k : 4 score : 0.0881246606719483\n",
            "k : 5 score : 0.10162126249828722\n",
            "k : 6 score : 0.10617711235036237\n",
            "k : 7 score : 0.1157320566548804\n",
            "k : 8 score : 0.11950685712684761\n",
            "k : 9 score : 0.13322032168611808\n",
            "k : 10 score : 0.13390057471228686\n",
            "k : 11 score : 0.1428952639313192\n",
            "k : 12 score : 0.14919359987610104\n",
            "k : 13 score : 0.14936290647686956\n",
            "k : 14 score : 0.1543966675762057\n",
            "k : 15 score : 0.15688366238375592\n",
            "k : 16 score : 0.15771084599026627\n",
            "k : 17 score : 0.16258203491170625\n",
            "k : 18 score : 0.16897769033107865\n",
            "k : 19 score : 0.1689888572749153\n",
            "k : 20 score : 0.17199942053394018\n",
            "k : 21 score : 0.17658514129363811\n",
            "k : 22 score : 0.17714713262245615\n",
            "k : 23 score : 0.17503054545474708\n",
            "k : 24 score : 0.17213672471854458\n",
            "k : 25 score : 0.1828796466011969\n",
            "k : 26 score : 0.18052028903417877\n",
            "k : 27 score : 0.18247068782670756\n",
            "k : 28 score : 0.17775326773727873\n",
            "k : 29 score : 0.18983822891183863\n",
            "best n :  29 best score :  0.18983822891183863\n"
          ]
        }
      ]
    }
  ]
}