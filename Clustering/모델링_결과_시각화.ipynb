{
  "nbformat": 4,
  "nbformat_minor": 0,
  "metadata": {
    "colab": {
      "name": "모델링 결과 시각화.ipynb",
      "provenance": [],
      "collapsed_sections": [],
      "authorship_tag": "ABX9TyP9AxEF9DV9fdv1i5hjCDpH",
      "include_colab_link": true
    },
    "kernelspec": {
      "name": "python3",
      "display_name": "Python 3"
    },
    "language_info": {
      "name": "python"
    }
  },
  "cells": [
    {
      "cell_type": "markdown",
      "metadata": {
        "id": "view-in-github",
        "colab_type": "text"
      },
      "source": [
        "<a href=\"https://colab.research.google.com/github/dr-song-summer-project/AI/blob/main/Clustering/%EB%AA%A8%EB%8D%B8%EB%A7%81_%EA%B2%B0%EA%B3%BC_%EC%8B%9C%EA%B0%81%ED%99%94.ipynb\" target=\"_parent\"><img src=\"https://colab.research.google.com/assets/colab-badge.svg\" alt=\"Open In Colab\"/></a>"
      ]
    },
    {
      "cell_type": "markdown",
      "metadata": {
        "id": "nNbAxdhtmUnU"
      },
      "source": [
        "https://stricky.tistory.com/124"
      ]
    },
    {
      "cell_type": "code",
      "metadata": {
        "colab": {
          "base_uri": "https://localhost:8080/"
        },
        "id": "iOPUxPYTP5yf",
        "outputId": "e7e59cef-e5c7-484c-f079-78ee32a69eb8"
      },
      "source": [
        "from google.colab import drive\n",
        "drive.mount('/content/drive')"
      ],
      "execution_count": null,
      "outputs": [
        {
          "output_type": "stream",
          "name": "stdout",
          "text": [
            "Drive already mounted at /content/drive; to attempt to forcibly remount, call drive.mount(\"/content/drive\", force_remount=True).\n"
          ]
        }
      ]
    },
    {
      "cell_type": "code",
      "metadata": {
        "id": "CEWp_02gTE1L"
      },
      "source": [
        "clustering_num = 24\n",
        "similarity_cmp = 'reviewRate'"
      ],
      "execution_count": null,
      "outputs": []
    },
    {
      "cell_type": "code",
      "metadata": {
        "colab": {
          "base_uri": "https://localhost:8080/",
          "height": 201
        },
        "id": "eE4kHmgBP6Lu",
        "outputId": "8e432a38-0015-4dd9-c69d-e666fce8f4a4"
      },
      "source": [
        "# 학습용 데이터셋 불러오기. --- 긍 부정\n",
        "import pandas as pd\n",
        "\n",
        "# 문장 내용과 모델링 결과 하나로 합치기\n",
        "document_df = pd.read_csv('/content/drive/My Drive/닥터송 여름 프로젝트/4. 대-스타 해결 2/DRSONG_AI_project/AI/data/test_results.tsv', delimiter='\\t', header=0)\n",
        "modeling_result = pd.read_csv('/content/drive/My Drive/닥터송 여름 프로젝트/4. 대-스타 해결 2/DRSONG_AI_project/AI/data/TrainData/13400/test_data_13400.txt', delimiter='\\t', header=0)\n",
        "modeling_result.drop(['encodedSenderId', 'encodedTargetId', 'DateTime'], axis=1, inplace=True)\n",
        "modeling_result = modeling_result.drop([modeling_result.index[0]])\n",
        "print(modeling_result.shape, document_df.shape) # (13282, 3) (13282, 3)로 동일\n",
        "modeling_result['Negative'] = document_df['0']\n",
        "modeling_result['Positive'] = document_df['1']\n",
        "\n",
        "modeling_result['Sentiment'] = document_df['1'].sub(0.5, fill_value = 0)\n",
        "modeling_result['Sentiment'] = modeling_result['Sentiment'].mul(2, fill_value = 0)\n",
        "\n",
        "modeling_result['reviewType'].replace(['recruitReview', 'interviewReview', 'failureReveiw'],[0, 1, 2])\n",
        "\n",
        "modeling_result.head()"
      ],
      "execution_count": null,
      "outputs": [
        {
          "output_type": "execute_result",
          "data": {
            "text/html": [
              "<div>\n",
              "<style scoped>\n",
              "    .dataframe tbody tr th:only-of-type {\n",
              "        vertical-align: middle;\n",
              "    }\n",
              "\n",
              "    .dataframe tbody tr th {\n",
              "        vertical-align: top;\n",
              "    }\n",
              "\n",
              "    .dataframe thead th {\n",
              "        text-align: right;\n",
              "    }\n",
              "</style>\n",
              "<table border=\"1\" class=\"dataframe\">\n",
              "  <thead>\n",
              "    <tr style=\"text-align: right;\">\n",
              "      <th></th>\n",
              "      <th>reviewIndex</th>\n",
              "      <th>reviewContent</th>\n",
              "      <th>reviewRate</th>\n",
              "      <th>reviewType</th>\n",
              "    </tr>\n",
              "  </thead>\n",
              "  <tbody>\n",
              "    <tr>\n",
              "      <th>0</th>\n",
              "      <td>9052</td>\n",
              "      <td>지원 신청을 했고 연락이 닿아서 면접 날짜를 잡았는데 면접 보는 당일 아침에 상을 ...</td>\n",
              "      <td>1</td>\n",
              "      <td>failureReview</td>\n",
              "    </tr>\n",
              "    <tr>\n",
              "      <th>1</th>\n",
              "      <td>13275</td>\n",
              "      <td>활동 일 전날인데 연락이 오지 않았습니다. 무슨 사정이 생기셨나 봐요 ㅠㅠ 가까이 ...</td>\n",
              "      <td>5</td>\n",
              "      <td>failureReview</td>\n",
              "    </tr>\n",
              "    <tr>\n",
              "      <th>2</th>\n",
              "      <td>2487</td>\n",
              "      <td>예쁜 아가와 배려심 깊은 부모님 덕에 편안하게 아기를 돌볼 수 있어 감사했습니다</td>\n",
              "      <td>5</td>\n",
              "      <td>recruitReview</td>\n",
              "    </tr>\n",
              "    <tr>\n",
              "      <th>3</th>\n",
              "      <td>1965</td>\n",
              "      <td>제가 원하는 요일과 시간을 말했는데 다행히 다 가능하시다 하셔서 우리 아가를 돌보아...</td>\n",
              "      <td>4</td>\n",
              "      <td>recruitReview</td>\n",
              "    </tr>\n",
              "    <tr>\n",
              "      <th>4</th>\n",
              "      <td>1483</td>\n",
              "      <td>활동적이고 친화력이 좋은 아이였어요 말을 잘해서 요구 사항을 잘 알 수 있어요 어머...</td>\n",
              "      <td>4</td>\n",
              "      <td>recruitReview</td>\n",
              "    </tr>\n",
              "  </tbody>\n",
              "</table>\n",
              "</div>"
            ],
            "text/plain": [
              "   reviewIndex  ...     reviewType\n",
              "0         9052  ...  failureReview\n",
              "1        13275  ...  failureReview\n",
              "2         2487  ...  recruitReview\n",
              "3         1965  ...  recruitReview\n",
              "4         1483  ...  recruitReview\n",
              "\n",
              "[5 rows x 4 columns]"
            ]
          },
          "metadata": {},
          "execution_count": 9
        }
      ]
    },
    {
      "cell_type": "markdown",
      "metadata": {
        "id": "dGE5MvpLUDJ2"
      },
      "source": [
        "리뷰 타입 모델링 결과 시각화"
      ]
    },
    {
      "cell_type": "code",
      "metadata": {
        "colab": {
          "base_uri": "https://localhost:8080/",
          "height": 201
        },
        "id": "U_LYjADhTTd9",
        "outputId": "6e3686eb-84ec-4f3e-913a-05624d85f4b9"
      },
      "source": [
        "# 학습용 데이터셋 불러오기 ----- 리뷰 타입\n",
        "import pandas as pd\n",
        "\n",
        "# 문장 내용과 모델링 결과 하나로 합치기\n",
        "\n",
        "modeling_result = pd.read_csv('/content/drive/My Drive/닥터송 여름 프로젝트/4. 대-스타 해결 2/DRSONG_AI_project/AI/data/test_results.tsv', delimiter='\\t', header=0)\n",
        "# modeling_result = pd.read_csv('/content/drive/My Drive/닥터송 여름 프로젝트/4. 대-스타 해결 2/DRSONG_AI_project/AI/data/TrainData/13400/test_data_13400.txt', delimiter='\\t', header=0)\n",
        "\n",
        "# modeling_result.drop(['encodedSenderId', 'encodedTargetId', 'DateTime'], axis=1, inplace=True)\n",
        "# modeling_result = modeling_result.drop([modeling_result.index[0]])\n",
        "# print(modeling_result.shape, document_df.shape) # (13282, 3) (13282, 3)로 동일\n",
        "\n",
        "# modeling_result['Sentiment'] = document_df['1'].sub(0.5, fill_value = 0)\n",
        "# modeling_result['Sentiment'] = modeling_result['Sentiment'].mul(2, fill_value = 0)\n",
        "\n",
        "# modeling_result['reviewType'].replace(['recruitReview', 'interviewReview', 'failureReveiw'],[0, 1, 2])\n",
        "\n",
        "# label_dict = {'interviewReview': 0, 'failureReview': 1, 'recruitReview': 2}\n",
        "# labels = []\n",
        "# for x in modeling_result['reviewType']:\n",
        "#   labels.append(label_dict[x])\n",
        "\n",
        "# modeling_result['reviewType'] = labels\n",
        "\n",
        "modeling_result.head()"
      ],
      "execution_count": null,
      "outputs": [
        {
          "output_type": "execute_result",
          "data": {
            "text/html": [
              "<div>\n",
              "<style scoped>\n",
              "    .dataframe tbody tr th:only-of-type {\n",
              "        vertical-align: middle;\n",
              "    }\n",
              "\n",
              "    .dataframe tbody tr th {\n",
              "        vertical-align: top;\n",
              "    }\n",
              "\n",
              "    .dataframe thead th {\n",
              "        text-align: right;\n",
              "    }\n",
              "</style>\n",
              "<table border=\"1\" class=\"dataframe\">\n",
              "  <thead>\n",
              "    <tr style=\"text-align: right;\">\n",
              "      <th></th>\n",
              "      <th>reviewIndex</th>\n",
              "      <th>interviewReview</th>\n",
              "      <th>failureReview</th>\n",
              "      <th>recruitReview</th>\n",
              "    </tr>\n",
              "  </thead>\n",
              "  <tbody>\n",
              "    <tr>\n",
              "      <th>0</th>\n",
              "      <td>9052</td>\n",
              "      <td>0.669962</td>\n",
              "      <td>0.299437</td>\n",
              "      <td>0.030601</td>\n",
              "    </tr>\n",
              "    <tr>\n",
              "      <th>1</th>\n",
              "      <td>13275</td>\n",
              "      <td>0.060239</td>\n",
              "      <td>0.924386</td>\n",
              "      <td>0.015374</td>\n",
              "    </tr>\n",
              "    <tr>\n",
              "      <th>2</th>\n",
              "      <td>2487</td>\n",
              "      <td>0.008271</td>\n",
              "      <td>0.003310</td>\n",
              "      <td>0.988419</td>\n",
              "    </tr>\n",
              "    <tr>\n",
              "      <th>3</th>\n",
              "      <td>1965</td>\n",
              "      <td>0.056695</td>\n",
              "      <td>0.008091</td>\n",
              "      <td>0.935214</td>\n",
              "    </tr>\n",
              "    <tr>\n",
              "      <th>4</th>\n",
              "      <td>1483</td>\n",
              "      <td>0.008745</td>\n",
              "      <td>0.003347</td>\n",
              "      <td>0.987909</td>\n",
              "    </tr>\n",
              "  </tbody>\n",
              "</table>\n",
              "</div>"
            ],
            "text/plain": [
              "   reviewIndex  interviewReview  failureReview  recruitReview\n",
              "0         9052         0.669962       0.299437       0.030601\n",
              "1        13275         0.060239       0.924386       0.015374\n",
              "2         2487         0.008271       0.003310       0.988419\n",
              "3         1965         0.056695       0.008091       0.935214\n",
              "4         1483         0.008745       0.003347       0.987909"
            ]
          },
          "metadata": {},
          "execution_count": 15
        }
      ]
    },
    {
      "cell_type": "code",
      "metadata": {
        "colab": {
          "base_uri": "https://localhost:8080/",
          "height": 767
        },
        "id": "LTrXrDagT5pq",
        "outputId": "e80dde9c-c69a-40a8-b027-88d4790f00f2"
      },
      "source": [
        "import matplotlib.pyplot as plt\n",
        "import seaborn as sb\n",
        "%matplotlib inline\n",
        "\n",
        "sb.lmplot(x='Sentiment', y='reviewRate', data=modeling_result, height=10, fit_reg=False, scatter_kws={\"s\":10, \"alpha\":1}, hue='reviewType', col='reviewType', ci=10)\n",
        "\n",
        "# plt.title('modeling result')"
      ],
      "execution_count": null,
      "outputs": [
        {
          "output_type": "execute_result",
          "data": {
            "text/plain": [
              "<seaborn.axisgrid.FacetGrid at 0x7fbecb064f50>"
            ]
          },
          "metadata": {},
          "execution_count": 7
        },
        {
          "output_type": "display_data",
          "data": {
            "image/png": "[encoded data removed]",
            "text/plain": [
              "<Figure size 2160x720 with 3 Axes>"
            ]
          },
          "metadata": {
            "needs_background": "light"
          }
        }
      ]
    }
  ]
}