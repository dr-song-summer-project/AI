{
  "nbformat": 4,
  "nbformat_minor": 0,
  "metadata": {
    "colab": {
      "name": "산술 기하 조화 평균.ipynb",
      "provenance": [],
      "collapsed_sections": [],
      "authorship_tag": "ABX9TyOmPx2YuEmq33w557294tS3",
      "include_colab_link": true
    },
    "kernelspec": {
      "name": "python3",
      "display_name": "Python 3"
    },
    "language_info": {
      "name": "python"
    }
  },
  "cells": [
    {
      "cell_type": "markdown",
      "metadata": {
        "id": "view-in-github",
        "colab_type": "text"
      },
      "source": [
        "<a href=\"https://colab.research.google.com/github/dr-song-summer-project/AI/blob/main/Sentiment_Score/%EC%82%B0%EC%88%A0_%EA%B8%B0%ED%95%98_%EC%A1%B0%ED%99%94_%ED%8F%89%EA%B7%A0.ipynb\" target=\"_parent\"><img src=\"https://colab.research.google.com/assets/colab-badge.svg\" alt=\"Open In Colab\"/></a>"
      ]
    },
    {
      "cell_type": "code",
      "metadata": {
        "id": "MXIyNOy8CEKR",
        "colab": {
          "base_uri": "https://localhost:8080/"
        },
        "outputId": "b18596c3-b775-435c-ce12-80cbe446402f"
      },
      "source": [
        "a = 1.1\n",
        "b = 1.5\n",
        "c = -5.36285\n",
        "\n",
        "mc1 = [1.1, -3.86285]\n",
        "\n",
        "#산술 평균\n",
        "# sumScore = 0\n",
        "# for item in mc1:\n",
        "#   sumScore += item\n",
        "# A = sumScore / len(mc1)\n",
        "\n",
        "\n",
        "#기하 평균\n",
        "mulScore = 1 # 곱셈에 대한 항등원 1\n",
        "for item in mc1 :\n",
        "  mulScore *= item\n",
        "geometricMean1 = pow(mulScore, (1/len(mc1)))\n",
        "ms1 = geometricMean1\n",
        "\n",
        "print('ms1 :', ms1)\n",
        "\n",
        "ms2 = -5.4992\n",
        "\n",
        "a = 1.1\n",
        "b = 1.5\n",
        "c = -5.36285\n",
        "\n",
        "print('ms2 : ', ms2)\n",
        "\n",
        "mc3 = [-2.5011, -2.5087]\n",
        "# mulScore = 1 # 곱셈에 대한 항등원 1\n",
        "# for item in mc3 :\n",
        "#   mulScore *= item\n",
        "# geometricMean1 = pow(mulScore, (1/len(mc3)))\n",
        "# ms3 = geometricMean1\n",
        "ms3 = (mc3[0]*mc3[1]) ** (1/2)\n",
        "ms3 = -1*ms3\n",
        "print('ms3 :', ms3)\n",
        "\n",
        "\n",
        "ms = [-8.8487025, -5.4992, ms3]\n",
        "\n",
        "sumScore = 0\n",
        "for item in ms:\n",
        "  sumScore += item\n",
        "A = sumScore / len(ms)\n",
        "\n",
        "mulScore = 1 # 곱셈에 대한 항등원 1\n",
        "for item in ms :\n",
        "  mulScore *= item\n",
        "geometricMean1 = pow(mulScore, (1/len(ms)))\n",
        "G = geometricMean1\n",
        "\n",
        "\n",
        "\n",
        "#조화 평균\n",
        "H = (3 / ((1/-8.8487025)+(1/-5.4992)+(1/ms3)))\n",
        "\n",
        "print('산술 =', A)\n",
        "print('기하 =', G)\n",
        "print('조화 =', H)"
      ],
      "execution_count": null,
      "outputs": [
        {
          "output_type": "stream",
          "name": "stdout",
          "text": [
            "ms1 : (1.2622085588464464e-16+2.06134300881731j)\n",
            "ms2 :  -5.4992\n",
            "ms3 : -2.504897117647749\n",
            "산술 = -5.617599872549249\n",
            "기하 = (2.4790940610523466+4.2939168704849235j)\n",
            "조화 = -4.322308531787301\n"
          ]
        }
      ]
    }
  ]
}